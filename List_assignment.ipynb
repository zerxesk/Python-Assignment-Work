{
 "cells": [
  {
   "cell_type": "markdown",
   "id": "02183ecb-187d-43a4-bde2-e7aabc60b48f",
   "metadata": {},
   "source": [
    "### 1. Write a program that accepts a list from user and print the alternate element of list. "
   ]
  },
  {
   "cell_type": "code",
   "execution_count": 46,
   "id": "593ce115-f1e4-47e3-a727-f6bf004f0c61",
   "metadata": {},
   "outputs": [
    {
     "name": "stdin",
     "output_type": "stream",
     "text": [
      "Enter list 1 2 3 4 5 6 7 8 9\n"
     ]
    },
    {
     "name": "stdout",
     "output_type": "stream",
     "text": [
      "['1', '3', '5', '7', '9']\n"
     ]
    }
   ],
   "source": [
    "alist=input(\"Enter list\")\n",
    "pure=alist.replace(\",\",\" \")\n",
    "elements=pure.split()\n",
    "print(elements[::2])"
   ]
  },
  {
   "cell_type": "markdown",
   "id": "422f40b7-be47-4e35-8636-504fe5d132df",
   "metadata": {},
   "source": [
    "### 2. Write a program that accepts a list from user. Your program should reverse the content of list and display it. Do not use reverse() method."
   ]
  },
  {
   "cell_type": "code",
   "execution_count": 34,
   "id": "f5994760-fa04-491f-a3d9-f872d91584c2",
   "metadata": {},
   "outputs": [
    {
     "name": "stdin",
     "output_type": "stream",
     "text": [
      "Enter list seperated by space kan jan an \n"
     ]
    },
    {
     "name": "stdout",
     "output_type": "stream",
     "text": [
      "['kan', 'jan', 'an', '']\n"
     ]
    }
   ],
   "source": [
    "list1=input(\"Enter list seperated by space\")\n",
    "items=[item.strip() for item in list1.split(\" \")] \n",
    "rev_item=items[::-1]\n",
    "print(items)"
   ]
  },
  {
   "cell_type": "markdown",
   "id": "5513fd8c-8624-409e-a042-dc51e6362188",
   "metadata": {},
   "source": [
    "### 3. Find and display the largest number of a list without using built-in function max(). Your program should ask the user to input values in list from keyboard"
   ]
  },
  {
   "cell_type": "code",
   "execution_count": 1,
   "id": "6d3e9238-e59d-4592-ab7d-21638efc4352",
   "metadata": {},
   "outputs": [],
   "source": [
    "def find_max(lst):\n",
    "    if len(lst)!=0:        \n",
    "        max_num = lst[0]\n",
    "        #max_num = lst[0]\n",
    "        for a in lst:\n",
    "            if a > max_num:\n",
    "                max_num = a\n",
    "        print(max_num)\n",
    "    else:\n",
    "        print(\"Empty list\")\n",
    "          "
   ]
  },
  {
   "cell_type": "code",
   "execution_count": 2,
   "id": "516c65eb-162e-479f-ad23-b08905e4629d",
   "metadata": {},
   "outputs": [
    {
     "name": "stdin",
     "output_type": "stream",
     "text": [
      "Enter numbers 12 234\n"
     ]
    },
    {
     "name": "stdout",
     "output_type": "stream",
     "text": [
      "234\n"
     ]
    }
   ],
   "source": [
    "lst=input(\"Enter numbers\").split()\n",
    "find_max(lst)"
   ]
  },
  {
   "cell_type": "markdown",
   "id": "2b2e0423-1d6b-469e-a76a-dba61b6692c9",
   "metadata": {},
   "source": [
    "### 4. Write a program that rotates the element of a list so that the element at the first index moves to the second index, the element in the second index moves to the third index, etc., and the element in the last index moves to the first index. "
   ]
  },
  {
   "cell_type": "code",
   "execution_count": 5,
   "id": "c0d0334f-ece0-4c67-a8d5-828d7c2c780b",
   "metadata": {},
   "outputs": [
    {
     "name": "stdin",
     "output_type": "stream",
     "text": [
      "Enter list hammad\n"
     ]
    },
    {
     "name": "stdout",
     "output_type": "stream",
     "text": [
      "dhamma\n"
     ]
    }
   ],
   "source": [
    "list2=input(\"Enter list\")\n",
    "#elem=list2[-1]\n",
    "for n in range(len(list2)-1):\n",
    "    list2=list2[1:] + list2[0]\n",
    "print(list2)"
   ]
  },
  {
   "cell_type": "markdown",
   "id": "5ad6906c-d9a0-4880-876e-1bc0c6810cf0",
   "metadata": {},
   "source": [
    "### 5. Write a program that input a string and ask user to delete a given word from a string"
   ]
  },
  {
   "cell_type": "code",
   "execution_count": 18,
   "id": "872ada8a-6ebe-4ba7-8c77-840e0965383a",
   "metadata": {},
   "outputs": [],
   "source": [
    "def del_wrd(txt,wrd):\n",
    "    if wrd in txt:\n",
    "        txt=txt.replace(wrd,\"\")\n",
    "        return txt.lstrip()"
   ]
  },
  {
   "cell_type": "code",
   "execution_count": 19,
   "id": "0a6e0abc-770f-479c-9b2a-b3dd697de58a",
   "metadata": {},
   "outputs": [
    {
     "name": "stdin",
     "output_type": "stream",
     "text": [
      "Enter text i am hammad i am learning\n"
     ]
    },
    {
     "name": "stdout",
     "output_type": "stream",
     "text": [
      "i am hammad i am learning\n"
     ]
    },
    {
     "name": "stdin",
     "output_type": "stream",
     "text": [
      "Enter the word you want deleted from the text i\n"
     ]
    },
    {
     "data": {
      "text/plain": [
       "'am hammad  am learnng'"
      ]
     },
     "execution_count": 19,
     "metadata": {},
     "output_type": "execute_result"
    }
   ],
   "source": [
    "txt=input(\"Enter text\")\n",
    "print(txt)\n",
    "wrd=input(\"Enter the word you want deleted from the text\")\n",
    "del_wrd(txt,wrd)"
   ]
  },
  {
   "cell_type": "markdown",
   "id": "6f7cbb7a-3b6b-4e4a-9989-47a47c4092ec",
   "metadata": {},
   "source": [
    "### 6. Write a program that reads a string from the user containing a date in the form mm/dd/yyyy. It should print the date in the form March 12, 2021. \n"
   ]
  },
  {
   "cell_type": "code",
   "execution_count": 4,
   "id": "6b4492b0-77e5-4cb9-90ac-10699081c73d",
   "metadata": {},
   "outputs": [
    {
     "name": "stdin",
     "output_type": "stream",
     "text": [
      "Enter date in format mm/dd/yy 12/13/2024\n"
     ]
    },
    {
     "name": "stdout",
     "output_type": "stream",
     "text": [
      "Dec 13,2024\n"
     ]
    }
   ],
   "source": [
    "mon={1:'Jan', 2:'Feb',3:'March',4:'April',5:'May',6:'June',7:'July',8:'Aug',9:'Sep',10:'Oct',11:'Nov',12:'Dec'}\n",
    "date=input(\"Enter date in format mm/dd/yy\").split(\"/\")\n",
    "print(f\"{mon.get(int(date[0]))} {date[1]},{date[2]}\")"
   ]
  },
  {
   "cell_type": "markdown",
   "id": "73118878-2a01-40e7-8218-180cadd2963b",
   "metadata": {},
   "source": [
    "### 7. Write a program with a function that accepts a string from keyboard and create a new string after converting character of each word capitalized. For instance, if the sentence is \"stop and smell the roses.\" the output should be \"Stop And Smell The Roses\" "
   ]
  },
  {
   "cell_type": "code",
   "execution_count": 15,
   "id": "e3b8e000-6745-413b-aad0-654bc753bd57",
   "metadata": {},
   "outputs": [
    {
     "name": "stdin",
     "output_type": "stream",
     "text": [
      "Enter string stop and smell the roses\n"
     ]
    },
    {
     "name": "stdout",
     "output_type": "stream",
     "text": [
      "Stop And Smell The Roses\n"
     ]
    }
   ],
   "source": [
    "string1=input(\"Enter string\")\n",
    "new_str=string1.title()\n",
    "print(new_str)"
   ]
  },
  {
   "cell_type": "markdown",
   "id": "d3692420-7596-4441-a11c-79c5c4fdc8f2",
   "metadata": {},
   "source": [
    "### 8. Find the sum of each row of matrix of size m x n. For example for the following matrix output will be like this : "
   ]
  },
  {
   "cell_type": "code",
   "execution_count": 2,
   "id": "3d6cc699-7315-4f64-804a-424c4cbdce46",
   "metadata": {},
   "outputs": [
    {
     "name": "stdin",
     "output_type": "stream",
     "text": [
      "Enter number of rows:  4\n",
      "Enter number of columns:  3\n"
     ]
    },
    {
     "name": "stdout",
     "output_type": "stream",
     "text": [
      "Enter 3 elements for row 1, separated by spaces:\n"
     ]
    },
    {
     "name": "stdin",
     "output_type": "stream",
     "text": [
      " 22 44 23\n"
     ]
    },
    {
     "name": "stdout",
     "output_type": "stream",
     "text": [
      "Enter 3 elements for row 2, separated by spaces:\n"
     ]
    },
    {
     "name": "stdin",
     "output_type": "stream",
     "text": [
      " 12 33 43 \n"
     ]
    },
    {
     "name": "stdout",
     "output_type": "stream",
     "text": [
      "Enter 3 elements for row 3, separated by spaces:\n"
     ]
    },
    {
     "name": "stdin",
     "output_type": "stream",
     "text": [
      " 12 21 23\n"
     ]
    },
    {
     "name": "stdout",
     "output_type": "stream",
     "text": [
      "Enter 3 elements for row 4, separated by spaces:\n"
     ]
    },
    {
     "name": "stdin",
     "output_type": "stream",
     "text": [
      " 12 33 56 76\n"
     ]
    },
    {
     "name": "stdout",
     "output_type": "stream",
     "text": [
      "Error! You must enter exactly 3 elements. Try again.\n",
      "Enter 3 elements for row 4, separated by spaces:\n"
     ]
    },
    {
     "name": "stdin",
     "output_type": "stream",
     "text": [
      " 12\n"
     ]
    },
    {
     "name": "stdout",
     "output_type": "stream",
     "text": [
      "Error! You must enter exactly 3 elements. Try again.\n",
      "Enter 3 elements for row 4, separated by spaces:\n"
     ]
    },
    {
     "name": "stdin",
     "output_type": "stream",
     "text": [
      " 12 13 34\n"
     ]
    },
    {
     "name": "stdout",
     "output_type": "stream",
     "text": [
      "\n",
      "Sum of each row:\n",
      "89\n",
      "88\n",
      "56\n",
      "59\n"
     ]
    }
   ],
   "source": [
    "m=int(input(\"Enter number of rows: \"))\n",
    "n=int(input(\"Enter number of columns: \"))\n",
    "matrix=[]\n",
    "for i in range(m):\n",
    "    while True:\n",
    "        print(f\"Enter {n} elements for row {i + 1}, separated by spaces:\")\n",
    "        row=list(map(int, input().split()))\n",
    "        if len(row)==n:\n",
    "            matrix.append(row)\n",
    "            break\n",
    "        else:\n",
    "            print(f\"Error! You must enter exactly {n} elements. Try again.\")\n",
    "print(\"\\nSum of each row:\")\n",
    "for row in matrix:\n",
    "    row_sum=sum(row)\n",
    "    print(row_sum)"
   ]
  },
  {
   "cell_type": "markdown",
   "id": "8a826fd4-86ed-4650-8110-c0f129a7b7d4",
   "metadata": {},
   "source": [
    "### 9. Write a program to add two matrices of size n x m. "
   ]
  },
  {
   "cell_type": "code",
   "execution_count": null,
   "id": "6f12c080-0c74-4d50-a77b-80fb11b9eee0",
   "metadata": {},
   "outputs": [],
   "source": []
  }
 ],
 "metadata": {
  "kernelspec": {
   "display_name": "Python 3 (ipykernel)",
   "language": "python",
   "name": "python3"
  },
  "language_info": {
   "codemirror_mode": {
    "name": "ipython",
    "version": 3
   },
   "file_extension": ".py",
   "mimetype": "text/x-python",
   "name": "python",
   "nbconvert_exporter": "python",
   "pygments_lexer": "ipython3",
   "version": "3.12.7"
  }
 },
 "nbformat": 4,
 "nbformat_minor": 5
}
