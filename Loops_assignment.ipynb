{
 "cells": [
  {
   "cell_type": "markdown",
   "id": "0b920079-22b1-41e1-b846-2a9106214540",
   "metadata": {},
   "source": [
    "# Looping Structures"
   ]
  },
  {
   "cell_type": "markdown",
   "id": "ff053a97-314e-4ca2-9963-87fa80434432",
   "metadata": {},
   "source": [
    "### 1. Write a Python program to print the numbers from 1 to 10 using a for loop. "
   ]
  },
  {
   "cell_type": "code",
   "execution_count": 2,
   "id": "4af17c8d-4f43-4eed-bea1-23e813a197e0",
   "metadata": {},
   "outputs": [
    {
     "name": "stdout",
     "output_type": "stream",
     "text": [
      "1\n",
      "2\n",
      "3\n",
      "4\n",
      "5\n",
      "6\n",
      "7\n",
      "8\n",
      "9\n",
      "10\n"
     ]
    }
   ],
   "source": [
    "for a in range(1,11):\n",
    "    print(a)"
   ]
  },
  {
   "cell_type": "markdown",
   "id": "aec00262-5d82-468c-8ea7-38170d6c5be6",
   "metadata": {},
   "source": [
    "### 2. Write a Python program to print the numbers from 20 to 1 using a while loop"
   ]
  },
  {
   "cell_type": "code",
   "execution_count": 3,
   "id": "9993220f-2ee0-4145-8d08-12cb335f48ae",
   "metadata": {},
   "outputs": [
    {
     "name": "stdout",
     "output_type": "stream",
     "text": [
      "1\n",
      "2\n",
      "3\n",
      "4\n",
      "5\n",
      "6\n",
      "7\n",
      "8\n",
      "9\n",
      "10\n",
      "11\n",
      "12\n",
      "13\n",
      "14\n",
      "15\n",
      "16\n",
      "17\n",
      "18\n",
      "19\n",
      "20\n"
     ]
    }
   ],
   "source": [
    "a=0\n",
    "while a<20:\n",
    "    a+=1\n",
    "    print(a)"
   ]
  },
  {
   "cell_type": "markdown",
   "id": "e6b9fa6a-fa15-4d61-ac83-251f56944682",
   "metadata": {},
   "source": [
    "### 3. Write a program to print even numbers from 1 to 10. "
   ]
  },
  {
   "cell_type": "code",
   "execution_count": 16,
   "id": "ba0953f0-6a1d-4846-a31d-460daba743b1",
   "metadata": {},
   "outputs": [
    {
     "name": "stdout",
     "output_type": "stream",
     "text": [
      "2\n",
      "4\n",
      "6\n",
      "8\n",
      "10\n"
     ]
    }
   ],
   "source": [
    "for e in range(1,11):\n",
    "    if e%2==0:\n",
    "       print(e)"
   ]
  },
  {
   "cell_type": "markdown",
   "id": "8cea751d-d644-4047-95ae-973e7f05b00f",
   "metadata": {},
   "source": [
    "### 4. Write a program that prompts the user to enter a number n and prints all the numbers from 1 to n. "
   ]
  },
  {
   "cell_type": "code",
   "execution_count": 18,
   "id": "2f808150-9c29-4441-98c8-c1cf28aba153",
   "metadata": {},
   "outputs": [
    {
     "name": "stdin",
     "output_type": "stream",
     "text": [
      "Enter number: 18\n"
     ]
    },
    {
     "name": "stdout",
     "output_type": "stream",
     "text": [
      "1\n",
      "2\n",
      "3\n",
      "4\n",
      "5\n",
      "6\n",
      "7\n",
      "8\n",
      "9\n",
      "10\n",
      "11\n",
      "12\n",
      "13\n",
      "14\n",
      "15\n",
      "16\n",
      "17\n",
      "18\n"
     ]
    }
   ],
   "source": [
    "n=int(input(\"Enter number:\"))\n",
    "for n in range(1,n+1):\n",
    "    print(n)"
   ]
  },
  {
   "cell_type": "markdown",
   "id": "d3b7f37c-857c-426a-8658-691986ea7e46",
   "metadata": {},
   "source": [
    "### 5. Write a program that prompts the user to enter a number n, and then prints all the odd numbers between 1 and n. \n"
   ]
  },
  {
   "cell_type": "code",
   "execution_count": 19,
   "id": "cb8fd1ad-02d0-4883-9851-72d95e55adb9",
   "metadata": {},
   "outputs": [
    {
     "name": "stdin",
     "output_type": "stream",
     "text": [
      "Enter number: 18\n"
     ]
    },
    {
     "name": "stdout",
     "output_type": "stream",
     "text": [
      "1\n",
      "3\n",
      "5\n",
      "7\n",
      "9\n",
      "11\n",
      "13\n",
      "15\n",
      "17\n"
     ]
    }
   ],
   "source": [
    "n1=int(input(\"Enter number:\"))\n",
    "for n1 in range(1,n1):\n",
    "    if n1%2!=0:\n",
    "        print(n1)"
   ]
  },
  {
   "cell_type": "markdown",
   "id": "24ae7fdf-2875-474a-98a6-87dcea249ae2",
   "metadata": {},
   "source": [
    "### 6. Write a program that prints 'Happy Birthday!' five times on screen"
   ]
  },
  {
   "cell_type": "code",
   "execution_count": 22,
   "id": "135aeaf1-4d04-483b-a4c8-4d8ad793b79a",
   "metadata": {},
   "outputs": [
    {
     "name": "stdout",
     "output_type": "stream",
     "text": [
      "1 Happy Birthday!\n",
      "2 Happy Birthday!\n",
      "3 Happy Birthday!\n",
      "4 Happy Birthday!\n",
      "5 Happy Birthday!\n"
     ]
    }
   ],
   "source": [
    "for a in range(1,6):\n",
    "    print(a,\"Happy Birthday!\")"
   ]
  },
  {
   "cell_type": "markdown",
   "id": "27577fcf-42c8-4f86-9872-beb93bf73a6f",
   "metadata": {},
   "source": [
    "### 7. Write a program that takes a number n as input from the user and generates the first n terms of the series formed by squaring the natural numbers. "
   ]
  },
  {
   "cell_type": "code",
   "execution_count": 29,
   "id": "9cb3cd86-f13a-4b80-8bd5-0fbf59bac981",
   "metadata": {},
   "outputs": [
    {
     "name": "stdin",
     "output_type": "stream",
     "text": [
      "Enter Number: 6\n"
     ]
    },
    {
     "name": "stdout",
     "output_type": "stream",
     "text": [
      "1\n",
      "4\n",
      "9\n",
      "16\n",
      "25\n",
      "36\n"
     ]
    }
   ],
   "source": [
    "n2=int(input(\"Enter Number:\"))\n",
    "for n2 in range(1,n2+1):\n",
    "    print(n2**2)"
   ]
  },
  {
   "cell_type": "markdown",
   "id": "26a6bf8d-6160-41e7-83db-aaadaba48fe5",
   "metadata": {},
   "source": [
    "### 8. Write a program that prompts the user to input a number and prints its multiplication table. "
   ]
  },
  {
   "cell_type": "code",
   "execution_count": 33,
   "id": "2d3100f5-75ed-454e-816b-56fa9c4104c1",
   "metadata": {},
   "outputs": [
    {
     "name": "stdin",
     "output_type": "stream",
     "text": [
      "Enter Number: 6\n"
     ]
    },
    {
     "name": "stdout",
     "output_type": "stream",
     "text": [
      "6 x 1 = 6\n",
      "6 x 2 = 12\n",
      "6 x 3 = 18\n",
      "6 x 4 = 24\n",
      "6 x 5 = 30\n",
      "6 x 6 = 36\n",
      "6 x 7 = 42\n",
      "6 x 8 = 48\n",
      "6 x 9 = 54\n",
      "6 x 10 = 60\n"
     ]
    }
   ],
   "source": [
    "n3=int(input(\"Enter Number:\"))\n",
    "for n in range(1,11):\n",
    "    print(f\"{n3} x {n} = {n3*n}\")"
   ]
  },
  {
   "cell_type": "markdown",
   "id": "583cd911-09a2-44b3-ae1c-94538722326c",
   "metadata": {},
   "source": [
    "### 9. Write a Python program to print the first 8 terms of an arithmetic progression starting with 3 and having a common difference of 4. "
   ]
  },
  {
   "cell_type": "code",
   "execution_count": 3,
   "id": "d62ebecc-b30a-4dc8-9489-fa024f0533d3",
   "metadata": {},
   "outputs": [
    {
     "name": "stdout",
     "output_type": "stream",
     "text": [
      "3\n",
      "7\n",
      "11\n",
      "15\n",
      "19\n",
      "23\n",
      "27\n",
      "31\n"
     ]
    }
   ],
   "source": [
    "for d in range(3,32,4):\n",
    "    print(d)"
   ]
  },
  {
   "cell_type": "markdown",
   "id": "2ec746dd-ea31-4d7b-b20e-2c28d445872b",
   "metadata": {},
   "source": [
    "### 10. Write a Python program to print the first 6 terms of a geometric sequence starting with 2 and having a common ratio of 3. "
   ]
  },
  {
   "cell_type": "code",
   "execution_count": 54,
   "id": "c2bbf2db-5dcd-4e92-aab0-be356391a3e2",
   "metadata": {},
   "outputs": [
    {
     "name": "stdout",
     "output_type": "stream",
     "text": [
      "2\n",
      "6\n",
      "18\n",
      "54\n",
      "162\n",
      "486\n"
     ]
    }
   ],
   "source": [
    "st=2\n",
    "cr=3\n",
    "for c in range(6):\n",
    "    print(st)\n",
    "    st*=cr"
   ]
  },
  {
   "cell_type": "markdown",
   "id": "a1d954fe-15cd-4d35-8d3a-6f0c8616345b",
   "metadata": {},
   "source": [
    "### 11. Write a program that asks the user for a positive integer value. The program should calculate the sum of all the integers from 1 up to the number entered. "
   ]
  },
  {
   "cell_type": "code",
   "execution_count": 23,
   "id": "3148aacc-07e9-4b35-9e94-31f79d940cef",
   "metadata": {},
   "outputs": [
    {
     "name": "stdin",
     "output_type": "stream",
     "text": [
      "Enter a positive number: 20\n"
     ]
    },
    {
     "name": "stdout",
     "output_type": "stream",
     "text": [
      "The sum from 1 to 20 is 210\n"
     ]
    }
   ],
   "source": [
    "num=int(input(\"Enter a positive number:\"))\n",
    "tot=0\n",
    "for i in range(1,num+1):\n",
    "    tot+=i\n",
    "print(f\"The sum from 1 to {num} is {tot}\")"
   ]
  },
  {
   "cell_type": "markdown",
   "id": "3e9f6834-05ff-43f7-91fc-3152ad6af71c",
   "metadata": {},
   "source": [
    "### 12. write a program that takes a positive integer N as input and calculates the sum of the reciprocals of all numbers from 1 up to N"
   ]
  },
  {
   "cell_type": "code",
   "execution_count": 21,
   "id": "0c6882d8-3c1f-4ded-ab40-7bee73586119",
   "metadata": {},
   "outputs": [
    {
     "name": "stdin",
     "output_type": "stream",
     "text": [
      "Enter a positive number: 5\n"
     ]
    },
    {
     "name": "stdout",
     "output_type": "stream",
     "text": [
      "The sum of reciprocal from 1 to 5 is: 2.283333333333333\n"
     ]
    }
   ],
   "source": [
    "num=int(input(\"Enter a positive number:\"))\n",
    "rec=0\n",
    "init=1\n",
    "for i in range(1,num+1):\n",
    "    rec+=1/i\n",
    "print(f\"The sum of reciprocal from {init} to {num} is: {rec}\")\n",
    "    "
   ]
  },
  {
   "cell_type": "markdown",
   "id": "e07c01a1-a93b-4b55-81b3-2f89d2d13415",
   "metadata": {},
   "source": [
    "### 13. Write a program that prompts the user to enter a number and repeats this process 5 times. The program should accumulate the numbers entered and then display the final running total. "
   ]
  },
  {
   "cell_type": "code",
   "execution_count": 27,
   "id": "40e85272-79a6-4853-b15a-7e438e9b20c1",
   "metadata": {},
   "outputs": [
    {
     "name": "stdin",
     "output_type": "stream",
     "text": [
      "Enter a number: 21\n",
      "Enter a number: 23\n",
      "Enter a number: 43\n",
      "Enter a number: 34\n",
      "Enter a number: 45\n"
     ]
    },
    {
     "name": "stdout",
     "output_type": "stream",
     "text": [
      "The total is 166\n"
     ]
    }
   ],
   "source": [
    "total=0\n",
    "num=0\n",
    "for c in range(5):\n",
    "    num=int(input(\"Enter a number:\"))\n",
    "    total+=num \n",
    "print(f'The total is {total}')"
   ]
  },
  {
   "cell_type": "markdown",
   "id": "ee7b08b7-d83c-42f1-8f26-7c52fa836218",
   "metadata": {},
   "source": [
    "### 14. Write a program that prompts the user to enter a positive integer and calculates its factorial. The factorial of a positive integer 'n' is denoted as 'n!' and is calculated by multiplying all the integers from 1 to 'n' together. For example, the factorial of 5 (denoted as 5!) is calculated as 1 x 2 x 3 x 4 x 5.\n",
    "The program should display the factorial value if the input is a positive number, or\n",
    "display a message stating that the factorial does not exist for negative numbers.\n",
    "Additionally, for an input of zero, the program should output that the factorial of 0 is 1."
   ]
  },
  {
   "cell_type": "code",
   "execution_count": 1,
   "id": "f03735a5-2036-477c-8a91-d469b71f5e64",
   "metadata": {},
   "outputs": [
    {
     "name": "stdin",
     "output_type": "stream",
     "text": [
      "Enter a positive number: 5\n"
     ]
    },
    {
     "name": "stdout",
     "output_type": "stream",
     "text": [
      "The Factorial of 5 is 120\n"
     ]
    }
   ],
   "source": [
    "num=int(input(\"Enter a positive number:\"))\n",
    "tot=1\n",
    "if num>0:\n",
    "    for i in range(1,num+1):\n",
    "        tot=tot*i\n",
    "    print(f\"The Factorial of {num} is {tot}\")\n",
    "elif num==0:\n",
    "    print(\"The factorial of 0 is 1\")\n",
    "elif num<0:\n",
    "    print(\"Factorial does not exist for negative numbers\")\n",
    "    "
   ]
  },
  {
   "cell_type": "markdown",
   "id": "f68112fa-db52-4c66-92d0-8850d2a9fce9",
   "metadata": {},
   "source": [
    "### 15. Write a Python program that prompts the user to enter a base number and an exponent, and then calculates the power of the base to the exponent. The program should not use the exponentiation operator (**) or the math.pow() function. The program should handle both positive and negative exponents. "
   ]
  },
  {
   "cell_type": "code",
   "execution_count": 2,
   "id": "a7e28146-de21-4f58-9103-48f1a9be96c5",
   "metadata": {},
   "outputs": [
    {
     "name": "stdin",
     "output_type": "stream",
     "text": [
      "Enter base number: 2\n",
      "Enter exponent: 3\n"
     ]
    },
    {
     "name": "stdout",
     "output_type": "stream",
     "text": [
      "8\n"
     ]
    }
   ],
   "source": [
    "base=int(input(\"Enter base number:\"))\n",
    "expo=int(input(\"Enter exponent:\"))\n",
    "r=1\n",
    "for a in range(1,expo+1):\n",
    "    r*=base\n",
    "print(r)    "
   ]
  },
  {
   "cell_type": "code",
   "execution_count": null,
   "id": "3845c3fc-eec3-439d-bffa-9747d4d2d9fb",
   "metadata": {},
   "outputs": [],
   "source": []
  }
 ],
 "metadata": {
  "kernelspec": {
   "display_name": "Python 3 (ipykernel)",
   "language": "python",
   "name": "python3"
  },
  "language_info": {
   "codemirror_mode": {
    "name": "ipython",
    "version": 3
   },
   "file_extension": ".py",
   "mimetype": "text/x-python",
   "name": "python",
   "nbconvert_exporter": "python",
   "pygments_lexer": "ipython3",
   "version": "3.12.7"
  }
 },
 "nbformat": 4,
 "nbformat_minor": 5
}
