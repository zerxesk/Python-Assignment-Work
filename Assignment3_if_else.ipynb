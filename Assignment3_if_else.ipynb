{
 "cells": [
  {
   "cell_type": "markdown",
   "id": "ad0dea92-1031-4a01-b519-cafedc3c2dd3",
   "metadata": {},
   "source": [
    "# A- Discount and Pricing\n"
   ]
  },
  {
   "cell_type": "markdown",
   "id": "6702c10d-70f7-40e9-be83-52d90dccb8d0",
   "metadata": {},
   "source": [
    "## 1\n",
    "### Check Discount Eligibility\n",
    " Write a program to check if a customer is eligible for a discount. If the total purchase is\n",
    " more than $100, apply a 10% discount and display the final price. Otherwise, display the\n",
    " total price as it is.\n"
   ]
  },
  {
   "cell_type": "code",
   "execution_count": 7,
   "id": "44c3e383-6fba-467f-97e1-83ea43484001",
   "metadata": {
    "scrolled": true
   },
   "outputs": [
    {
     "name": "stdin",
     "output_type": "stream",
     "text": [
      "enter total purchase: 15000\n"
     ]
    },
    {
     "name": "stdout",
     "output_type": "stream",
     "text": [
      "Congratulations! You've got 10% discount\n",
      "Total price:13500.0\n"
     ]
    }
   ],
   "source": [
    "disc= None\n",
    "purchase=float(input(\"enter total purchase:\"))\n",
    "if purchase>10000:\n",
    "    disc=purchase*0.10\n",
    "    purchase=purchase-disc\n",
    "    print(\"Congratulations! You've got 10% discount\")\n",
    "    print(f\"Total price:{purchase}\")\n",
    "else:\n",
    "    print(f\"Total price:{purchase}\")"
   ]
  },
  {
   "cell_type": "markdown",
   "id": "3676ec6e-eecc-4145-894d-a7163f0c93db",
   "metadata": {},
   "source": [
    "## 2\n"
   ]
  },
  {
   "cell_type": "markdown",
   "id": "93328ef7-89f4-401e-8ca3-5f5da3f2b8eb",
   "metadata": {},
   "source": [
    "### Calculate Bulk Discount\n",
    "If a customer buys more than 5 items, apply a 15% discount on the total price. Otherwise,\n",
    "no discount is applied. Display the total price."
   ]
  },
  {
   "cell_type": "code",
   "execution_count": 28,
   "id": "04a07ab0-8ff6-4db2-91e0-9bf9a88ea50a",
   "metadata": {},
   "outputs": [
    {
     "name": "stdin",
     "output_type": "stream",
     "text": [
      "What is the price of the item youre buying?: 700\n",
      "how many items have you bought from here: 5\n"
     ]
    },
    {
     "name": "stdout",
     "output_type": "stream",
     "text": [
      "Total price:3500.0\n"
     ]
    }
   ],
   "source": [
    "disc= 0\n",
    "price_per_item=float(input(\"What is the price of the item youre buying?:\"))\n",
    "quantity=float(input(\"how many items have you bought from here:\"))\n",
    "total_price=quantity*price_per_item\n",
    "if quantity>5:\n",
    "    disc=total_price*0.15\n",
    "    total_price=total_price-disc\n",
    "    print(\"Congratulations! You've got 15% discount\")\n",
    "    print(f\"Total price:{total_price}\")\n",
    "else:\n",
    "    print(f\"Total price:{total_price}\")"
   ]
  },
  {
   "cell_type": "markdown",
   "id": "51d0f00e-84b5-4a92-aff8-7f954b5c976c",
   "metadata": {},
   "source": [
    "## 3"
   ]
  },
  {
   "cell_type": "markdown",
   "id": "e5d4b02c-cba4-45a6-8735-a4e90fc5df7d",
   "metadata": {},
   "source": [
    "### Membership Discount\n",
    "Check if the customer is a member (is_member = True). Members get a 20% discount;\n",
    "non-members get a 5% discount. Calculate and print the discounted price"
   ]
  },
  {
   "cell_type": "code",
   "execution_count": 17,
   "id": "b39fffe3-cbc7-42de-b158-d3395bb5f637",
   "metadata": {},
   "outputs": [
    {
     "name": "stdin",
     "output_type": "stream",
     "text": [
      "What is the price of item you're buying: 1000\n",
      "Enter your name: haisar\n"
     ]
    },
    {
     "name": "stdout",
     "output_type": "stream",
     "text": [
      "You've got 5% discount!\n",
      "Total price:950.0\n"
     ]
    }
   ],
   "source": [
    "members=['Hammad','Ahmad','Hassan','Azhar','Usman','Abu bakr','Umar','Ali']\n",
    "discount=0\n",
    "price1=float(input(\"What is the price of item you're buying:\"))\n",
    "name=input(\"Enter your name:\").capitalize()\n",
    "if name in members:\n",
    "    discount=price1*0.20\n",
    "    price1=price1-discount\n",
    "    print(\"Congratulations! You've got 20% discount\")\n",
    "    print(f\"Total price:{price1}\")\n",
    "else:\n",
    "    discount=price1*0.05\n",
    "    price1=price1-discount\n",
    "    print(\"You've got 5% discount!\")\n",
    "    print(f\"Total price:{price1}\")"
   ]
  },
  {
   "cell_type": "markdown",
   "id": "bb07899b-5a64-436d-a6f1-8531c83c02b5",
   "metadata": {},
   "source": [
    "## 4"
   ]
  },
  {
   "cell_type": "markdown",
   "id": "48f8666b-9b89-40f4-ad08-02a332c9c6af",
   "metadata": {},
   "source": [
    "## Seasonal Sale\n",
    "If today is a holiday (is_holiday = True), apply a 25% discount; otherwise, apply a 10%\n",
    "discount. Calculate the price after discount."
   ]
  },
  {
   "cell_type": "code",
   "execution_count": 2,
   "id": "3228dde9-d2f7-4b8b-b6df-05a21afdcfd4",
   "metadata": {},
   "outputs": [
    {
     "name": "stdin",
     "output_type": "stream",
     "text": [
      "Enter Price: 10000\n",
      "is it Holiday today? (yes/no): yes\n"
     ]
    },
    {
     "name": "stdout",
     "output_type": "stream",
     "text": [
      "Congratulations! You've got 25% discount\n",
      "Total price:7500.0\n"
     ]
    }
   ],
   "source": [
    "price=float(input(\"Enter Price:\"))\n",
    "disc=0\n",
    "is_holiday=input(\"is it Holiday today? (yes/no):\").lower()\n",
    "if is_holiday.endswith('yes'):\n",
    "    disc=price*0.25\n",
    "    price=price-disc\n",
    "    print(\"Congratulations! You've got 25% discount\")\n",
    "    print(f\"Total price:{price}\")\n",
    "else:\n",
    "    print(f\"Total price:{price}\")"
   ]
  },
  {
   "cell_type": "markdown",
   "id": "a5068778-9bf1-4019-8151-85611ac0d2bf",
   "metadata": {},
   "source": [
    "## 5"
   ]
  },
  {
   "cell_type": "markdown",
   "id": "ee52c085-e79b-47d4-a76a-933562a4468a",
   "metadata": {},
   "source": [
    "## Buy-One-Get-One-Free\n",
    "If a customer buys an even number of items, they get half of them for free. Otherwise,\n",
    "they pay for all. Calculate the number of items the customer has to pay for."
   ]
  },
  {
   "cell_type": "code",
   "execution_count": 10,
   "id": "ae596aee-fc95-46e5-ba57-8e55de917f35",
   "metadata": {},
   "outputs": [
    {
     "name": "stdin",
     "output_type": "stream",
     "text": [
      "Enter price: 9000\n",
      "how many items have you bought from here: 2\n"
     ]
    },
    {
     "name": "stdout",
     "output_type": "stream",
     "text": [
      "Congratulations! You get half the items for free\n",
      "Total price:4500.0\n"
     ]
    }
   ],
   "source": [
    "price=float(input(\"Enter price:\"))\n",
    "bought=float(input(\"how many items have you bought from here:\"))\n",
    "if bought%2==0:\n",
    "    price=price//2\n",
    "    print(\"Congratulations! You get half the items for free\")\n",
    "    print(f\"Total price:{price}\")\n",
    "else:\n",
    "    print(f\"Total price:{price}\")"
   ]
  },
  {
   "cell_type": "markdown",
   "id": "4bfc04d4-00bc-4474-9048-ca2ade1626fd",
   "metadata": {},
   "source": [
    "# B- Tax Calculations"
   ]
  },
  {
   "cell_type": "markdown",
   "id": "e75d4118-c115-48cd-b3e6-1b4e4148cd37",
   "metadata": {},
   "source": [
    "## 6"
   ]
  },
  {
   "cell_type": "markdown",
   "id": "87cf9c56-fd5a-48e0-8aae-0fa61e27b9ff",
   "metadata": {},
   "source": [
    "## Sales Tax\n",
    "If the price of an item is greater than $500, apply a luxury tax of 15%. Otherwise, apply a\n",
    "standard tax of 8%. Display the total price after tax."
   ]
  },
  {
   "cell_type": "code",
   "execution_count": 16,
   "id": "3a498a3d-51b5-4c04-9491-ea8e658d6eb7",
   "metadata": {},
   "outputs": [
    {
     "name": "stdin",
     "output_type": "stream",
     "text": [
      "Hello sir/mam what do you wish to buy? usb\n",
      "How many? 2\n"
     ]
    },
    {
     "name": "stdout",
     "output_type": "stream",
     "text": [
      "Total amount:1440.0\n"
     ]
    }
   ],
   "source": [
    "shop={'laptop':70000,'mobile':50000,'charger':1000,'usb':400,'screen protector':200,'mobile cover':600}\n",
    "item=input(\"Hello sir/mam what do you wish to buy?\").lower()\n",
    "tax=0\n",
    "if item in shop:\n",
    "    quantity=float(input(\"How many?\"))\n",
    "    total=quantity*shop[item]\n",
    "    if total>=50000:\n",
    "        tax=total*0.15\n",
    "        total=total+tax\n",
    "        print(f\"Total amount:{total}\")\n",
    "    else:\n",
    "        tax=total*0.08\n",
    "        total=total+tax\n",
    "        print(f\"Total amount:{total}\")\n",
    "else:\n",
    "    print(f\"{item} is not available\")"
   ]
  },
  {
   "cell_type": "markdown",
   "id": "1d83baf7-ee1e-400b-8bca-3c7e6a396ed3",
   "metadata": {},
   "source": [
    "## 7"
   ]
  },
  {
   "cell_type": "markdown",
   "id": "f27e5184-fb14-4d2e-b18b-066a68e06ccb",
   "metadata": {},
   "source": [
    "## Income Tax\n",
    "If a person's annual income is above $50,000, they pay 20% tax. Otherwise, they pay\n",
    "10%. Calculate and display the tax amount."
   ]
  },
  {
   "cell_type": "code",
   "execution_count": 3,
   "id": "7add16db-39b5-40e6-92bd-dddcabda4547",
   "metadata": {},
   "outputs": [
    {
     "name": "stdin",
     "output_type": "stream",
     "text": [
      "what is your annual income? 2000000\n"
     ]
    },
    {
     "name": "stdout",
     "output_type": "stream",
     "text": [
      "Your total tax amount 400000.0\n"
     ]
    }
   ],
   "source": [
    "income=float(input(\"what is your annual income?\"))\n",
    "tax=0\n",
    "ltd=1000000\n",
    "if income>ltd:\n",
    "    tax=income*0.20\n",
    "    print(f\"Your total tax amount {tax}\")\n",
    "else:\n",
    "    tax=income*0.10\n",
    "    print(f\"Your total tax amount {tax}\")"
   ]
  },
  {
   "cell_type": "markdown",
   "id": "60dd2437-573e-48b7-91cb-17253ee25e82",
   "metadata": {},
   "source": [
    "## 8"
   ]
  },
  {
   "cell_type": "markdown",
   "id": "8a9595e2-53f4-432c-a709-8b5681da1949",
   "metadata": {},
   "source": [
    "## Tax Bracket\n",
    "Write a program to categorize a person into tax brackets:\n",
    "- Income < $30,000: \"Low Tax\"\n",
    "- $30,000 ≤ Income < 100,000: \"Medium Tax\"\n",
    "- Income ≥ $100,000: \"High Tax\""
   ]
  },
  {
   "cell_type": "code",
   "execution_count": 28,
   "id": "ab9162c9-5e2f-4856-a337-56b05a2176b3",
   "metadata": {},
   "outputs": [
    {
     "name": "stdin",
     "output_type": "stream",
     "text": [
      "What is your annual income? 1000002\n"
     ]
    },
    {
     "name": "stdout",
     "output_type": "stream",
     "text": [
      "You belong to high tax category\n"
     ]
    }
   ],
   "source": [
    "income=float(input(\"What is your annual income?\"))\n",
    "if income<300000:\n",
    "    print(\"You belong to low tax category\")\n",
    "elif income<=1000000 and income>300000:\n",
    "    print(\"You belong to medium tax category\")  \n",
    "else:\n",
    "    print(\"You belong to high tax category\")"
   ]
  },
  {
   "cell_type": "markdown",
   "id": "8354902d-5538-4d2f-a0a0-718e635ff44c",
   "metadata": {},
   "source": [
    "## 9"
   ]
  },
  {
   "cell_type": "markdown",
   "id": "d852ab1f-29f4-45a3-9322-38611b16a920",
   "metadata": {},
   "source": [
    "## VAT Calculation\n",
    "If the item is marked as essential (is_essential = True), apply a VAT of 5%. Otherwise,\n",
    "apply a VAT of 12%. Display the final price.\n"
   ]
  },
  {
   "cell_type": "code",
   "execution_count": 14,
   "id": "a7cd9bad-da3b-4e01-9119-7d1dc1317873",
   "metadata": {},
   "outputs": [
    {
     "name": "stdin",
     "output_type": "stream",
     "text": [
      "Hello sir/mam what do you wish to buy? bomb\n",
      "Enter the price of the item 10000\n"
     ]
    },
    {
     "name": "stdout",
     "output_type": "stream",
     "text": [
      "Total Amount with added tax:11200.0\n"
     ]
    }
   ],
   "source": [
    "essential={'laptop':70000,'mobile':50000,'charger':1000,'usb':400,'screen protector':200,'mobile cover':600}\n",
    "item=input(\"Hello sir/mam what do you wish to buy?\").lower()\n",
    "tax=0\n",
    "price=0\n",
    "if item in essential:\n",
    "    tax=essential[item]*0.05\n",
    "    total=tax+essential[item]\n",
    "    print(f\"Total Amount:{total}\")\n",
    "else:\n",
    "    price=float(input(\"Enter the price of the item\"))\n",
    "    tax=price*0.12\n",
    "    total=price+tax\n",
    "    print(f\"Total Amount with added tax:{total}\")"
   ]
  },
  {
   "cell_type": "markdown",
   "id": "87a25b45-a1fb-4fa5-b56b-0ad0c65cc85e",
   "metadata": {},
   "source": [
    "## 10"
   ]
  },
  {
   "cell_type": "markdown",
   "id": "ea2c818b-36fb-4428-a84b-463e4bd056df",
   "metadata": {},
   "source": [
    "## Tax-Free Day\n",
    "If today is a tax-free day (tax_free = True), display the original price. Otherwise, add a\n",
    "7% tax."
   ]
  },
  {
   "cell_type": "code",
   "execution_count": 18,
   "id": "96e211ef-4819-4b74-8402-440f86c37406",
   "metadata": {},
   "outputs": [
    {
     "name": "stdin",
     "output_type": "stream",
     "text": [
      "whats the price? 100\n",
      "is it tax-free day today? (yes/no): no\n"
     ]
    },
    {
     "name": "stdout",
     "output_type": "stream",
     "text": [
      "Total price:107.0\n"
     ]
    }
   ],
   "source": [
    "tax=0\n",
    "price=float(input('whats the price?'))\n",
    "is_day=input(\"is it tax-free day today? (yes/no):\").lower()\n",
    "if is_day=='yes':\n",
    "    print(f\"Total price:{price}\")\n",
    "else:\n",
    "    tax=price*0.07\n",
    "    price=price+tax\n",
    "    print(f\"Total price:{price}\")"
   ]
  },
  {
   "cell_type": "markdown",
   "id": "f6a9dce7-5be0-42f4-9bae-0a45f90e6dd5",
   "metadata": {},
   "source": [
    "# C- Shopping and Billing"
   ]
  },
  {
   "cell_type": "markdown",
   "id": "c1ee16b3-bb45-48f6-b74d-6e1aad126722",
   "metadata": {},
   "source": [
    "## 11"
   ]
  },
  {
   "cell_type": "markdown",
   "id": "11864cf8-3ac7-48ac-ac1f-ede638a222c5",
   "metadata": {},
   "source": [
    "## Free Shipping\n",
    "If the total purchase amount is more than $50, offer free shipping; otherwise, charge 5\n",
    "for shipping. Display the total amount including shipping."
   ]
  },
  {
   "cell_type": "code",
   "execution_count": 1,
   "id": "738b52bb-f439-464c-b888-e6efac1784de",
   "metadata": {},
   "outputs": [
    {
     "name": "stdin",
     "output_type": "stream",
     "text": [
      "enter total purchase: 700\n"
     ]
    },
    {
     "name": "stdout",
     "output_type": "stream",
     "text": [
      "Your item will be delivered with shipping charges\n",
      "Total price:1200.0\n"
     ]
    }
   ],
   "source": [
    "shipping=500\n",
    "purchase=float(input(\"enter total purchase:\"))\n",
    "if purchase>1000:\n",
    "    print(\"Your item will be delivered with no shipping charges\")\n",
    "    print(f\"Total price:{purchase}\")\n",
    "else:\n",
    "    purchase=purchase+shipping\n",
    "    print(\"Your item will be delivered with shipping charges\")\n",
    "    print(f\"Total price:{purchase}\")"
   ]
  },
  {
   "cell_type": "markdown",
   "id": "87acd9f2-f7bf-48d5-a168-0c766c3b45b1",
   "metadata": {},
   "source": [
    "## 12\n"
   ]
  },
  {
   "cell_type": "markdown",
   "id": "e1881856-50f1-402f-aefe-09587031f977",
   "metadata": {},
   "source": [
    "## Discount Code\n",
    "If a customer enters the correct discount code (DISCOUNT10), apply a 10% discount.\n",
    "Otherwise, charge the full amount."
   ]
  },
  {
   "cell_type": "code",
   "execution_count": 4,
   "id": "bcd5a306-0801-459d-bc26-21470f8358dd",
   "metadata": {},
   "outputs": [
    {
     "name": "stdin",
     "output_type": "stream",
     "text": [
      "Enter Discount Code: SALAF10\n"
     ]
    },
    {
     "name": "stdout",
     "output_type": "stream",
     "text": [
      "Congratulations! You've got 10% discount\n",
      "Total price:1350.0\n"
     ]
    }
   ],
   "source": [
    "price=1500\n",
    "disc_code=input(\"Enter Discount Code:\")\n",
    "disc=0\n",
    "if disc_code=='SALAF10':\n",
    "    disc=price*0.10\n",
    "    price=price-disc\n",
    "    print(\"Congratulations! You've got 10% discount\")\n",
    "    print(f\"Total price:{price}\")\n",
    "else:\n",
    "    print(\"Sorry wrong code, no discount applied.\")\n",
    "    print(f\"Total price:{price}\")"
   ]
  },
  {
   "cell_type": "markdown",
   "id": "7ce5596b-8023-4c70-b70f-ddbb15c813e9",
   "metadata": {},
   "source": [
    "## 13"
   ]
  },
  {
   "cell_type": "markdown",
   "id": "781878f4-38d1-4338-90ab-d7549c22b63b",
   "metadata": {},
   "source": [
    "## Tiered Discounts\n",
    "Apply discounts based on the total price:\n",
    " $0–$50: No discount.\n",
    " $50–$100: 10% discount.\n",
    " Over $100: 20% discount."
   ]
  },
  {
   "cell_type": "code",
   "execution_count": 21,
   "id": "30881e94-b991-422a-a072-92a937b2c951",
   "metadata": {},
   "outputs": [
    {
     "name": "stdin",
     "output_type": "stream",
     "text": [
      "Enter total price: 7000\n"
     ]
    },
    {
     "name": "stdout",
     "output_type": "stream",
     "text": [
      "Your Total amount would be 5600.0\n",
      "Thank you for shopping\n"
     ]
    }
   ],
   "source": [
    "price=float(input(\"Enter total price:\"))\n",
    "disc=0\n",
    "if price<=1000 >0:\n",
    "    print(f\"Your Total amount would be {price}\")\n",
    "    print(\"Thank you for shopping\")\n",
    "elif price<=5000 >1000:\n",
    "    disc=price*0.10\n",
    "    price=price-disc\n",
    "    print(f\"Your Total amount would be {price}\") \n",
    "    print(\"Thank you for shopping\")\n",
    "else:\n",
    "    disc=price*0.20\n",
    "    price=price-disc\n",
    "    print(f\"Your Total amount would be {price}\") \n",
    "    print(\"Thank you for shopping\")"
   ]
  },
  {
   "cell_type": "markdown",
   "id": "79e48245-6be2-421d-88cb-07b721d2cb2c",
   "metadata": {},
   "source": [
    "## 14"
   ]
  },
  {
   "cell_type": "markdown",
   "id": "5b5a978b-6ae5-422f-b323-d3de52883aad",
   "metadata": {},
   "source": [
    "## Minimum Purchase Requirement\n",
    "If the total amount is less than 500 , display a message: \"Minimum purchase of 500 is\n",
    "required.\" Otherwise, display the total amount."
   ]
  },
  {
   "cell_type": "code",
   "execution_count": 7,
   "id": "dbd36f9e-8b80-4402-86aa-8665a6298e56",
   "metadata": {},
   "outputs": [
    {
     "name": "stdin",
     "output_type": "stream",
     "text": [
      "enter total purchase: 800\n"
     ]
    },
    {
     "name": "stdout",
     "output_type": "stream",
     "text": [
      "Total price:800.0\n",
      "Thank you for shopping with us.\n"
     ]
    }
   ],
   "source": [
    "purchase=float(input(\"enter total purchase:\"))\n",
    "if purchase<500:\n",
    "    print(\"Minimum purchase of 500rs is required\")\n",
    "else:\n",
    "    print(f\"Total price:{purchase}\")\n",
    "    print(\"Thank you for shopping with us.\")"
   ]
  },
  {
   "cell_type": "markdown",
   "id": "49eb206b-0321-49da-acb8-d34425c2cb2b",
   "metadata": {},
   "source": [
    "## 15"
   ]
  },
  {
   "cell_type": "markdown",
   "id": "ee8c0ccb-63da-4041-b5d6-dfeb7e666c03",
   "metadata": {},
   "source": [
    "## Loyalty Points\n",
    "If a customer is a loyal member (is_loyal = True), they earn double loyalty points for\n",
    "their purchase. Otherwise, they earn standard points."
   ]
  },
  {
   "cell_type": "code",
   "execution_count": 9,
   "id": "188e7509-78d3-44e0-8f7e-f2f04499c3b5",
   "metadata": {},
   "outputs": [
    {
     "name": "stdin",
     "output_type": "stream",
     "text": [
      "Enter your name: ali\n"
     ]
    },
    {
     "name": "stdout",
     "output_type": "stream",
     "text": [
      "You get 10 loyalty points, Thanks for always shopping with us.\n"
     ]
    }
   ],
   "source": [
    "members=['Hammad','Ahmad','Hassan','Azhar','Usman','Abu bakr','Umar','Ali']\n",
    "name=input(\"Enter your name:\").capitalize()\n",
    "if name in members:\n",
    "    print(\"You get 10 loyalty points, Thanks for always shopping with us.\")\n",
    "else:\n",
    "    print(\"You get 5 loyalty points! Levelling up little by little.\")"
   ]
  },
  {
   "cell_type": "markdown",
   "id": "3eb2c870-d55a-4b1e-af68-1b94b90142e3",
   "metadata": {},
   "source": [
    "# D- Travel and Tickets"
   ]
  },
  {
   "cell_type": "markdown",
   "id": "eef75428-5ef7-4848-b98a-deaa62b90552",
   "metadata": {},
   "source": [
    "## 16"
   ]
  },
  {
   "cell_type": "markdown",
   "id": "2b7cd7df-573e-4f5f-a868-273c3f570c5c",
   "metadata": {},
   "source": [
    "## Travel Discount\n",
    "If a person is traveling more than 500 miles, offer a 20% discount on ticket price.\n",
    "Otherwise, charge the full amount.\n"
   ]
  },
  {
   "cell_type": "code",
   "execution_count": 12,
   "id": "4dcc6f9c-c9d9-4857-8e24-fed50828fea6",
   "metadata": {},
   "outputs": [
    {
     "name": "stdin",
     "output_type": "stream",
     "text": [
      "Enter Price of your ticket: 900\n",
      "How far is your destination? (in miles): 500\n"
     ]
    },
    {
     "name": "stdout",
     "output_type": "stream",
     "text": [
      "Since youre travelling for more than 500 miles you get 20% discount\n",
      "Total price:720.0\n"
     ]
    }
   ],
   "source": [
    "price=float(input(\"Enter Price of your ticket:\"))\n",
    "disc=0\n",
    "destination=float(input(\"How far is your destination? (in miles):\"))\n",
    "if destination>=500:\n",
    "    disc=price*0.20\n",
    "    price=price-disc\n",
    "    print(\"Since youre travelling for more than 500 miles you get 20% discount\")\n",
    "    print(f\"Total price:{price}\")\n",
    "else:\n",
    "    print(\"Thank you for travelling with us.\")\n",
    "    print(f\"Total price:{price}\")"
   ]
  },
  {
   "cell_type": "markdown",
   "id": "8748af8a-7b75-42ec-b560-e56b81332bc9",
   "metadata": {},
   "source": [
    "## 17"
   ]
  },
  {
   "cell_type": "markdown",
   "id": "34d1e788-a21f-41c2-810a-5fcdf98da646",
   "metadata": {},
   "source": [
    "## . Child or Senior Discount\n",
    "If a passenger is under 12 or over 60 years old, apply a 15% discount on the ticket price.\n",
    "Otherwise, charge the full price"
   ]
  },
  {
   "cell_type": "code",
   "execution_count": 26,
   "id": "bffe4034-ff27-4889-9c89-d30bcde48454",
   "metadata": {},
   "outputs": [
    {
     "name": "stdin",
     "output_type": "stream",
     "text": [
      "Enter Price of your ticket: 900\n",
      "How old are you?: 12\n"
     ]
    },
    {
     "name": "stdout",
     "output_type": "stream",
     "text": [
      "Since you're 12 years old you get 15% discount\n",
      "Total price:765.0\n"
     ]
    }
   ],
   "source": [
    "price=float(input(\"Enter Price of your ticket:\"))\n",
    "disc=0\n",
    "age=int(input(\"How old are you?:\"))\n",
    "if age>=60 or age<=12:\n",
    "    disc=price*0.15\n",
    "    price=price-disc\n",
    "    print(f\"Since you're {age} years old you get 15% discount\")\n",
    "    print(f\"Total price:{price}\")\n",
    "else:\n",
    "    print(\"Thank you for travelling with us.\")\n",
    "    print(f\"Total price:{price}\")"
   ]
  },
  {
   "cell_type": "markdown",
   "id": "3503fea4-77f6-4933-b974-1609fb835dd0",
   "metadata": {},
   "source": [
    "## 18"
   ]
  },
  {
   "cell_type": "markdown",
   "id": "952604cb-61b1-4a8f-abfd-ff1fa2950a75",
   "metadata": {},
   "source": [
    "## Ticket Type Pricing\n",
    "If the ticket is for a weekend (is_weekend = True), add a 10% surcharge. Otherwise,\n",
    "charge the standard price."
   ]
  },
  {
   "cell_type": "code",
   "execution_count": null,
   "id": "de583ea3-1a0b-409b-bcd4-e83b5dec2749",
   "metadata": {},
   "outputs": [],
   "source": [
    "surcharge=0\n",
    "price=float(input('whats the price?'))\n",
    "is_weekend=input(\"are you booking for weekend? (yes/no)\").lower()\n",
    "if is_weekend=='yes':\n",
    "    surcharge=price*0.10\n",
    "    price=price+surcharge\n",
    "    print(f\"Total price:{price}\")\n",
    "else:\n",
    "    print(f\"Total price:{price}\")"
   ]
  },
  {
   "cell_type": "markdown",
   "id": "dcf3f078-0014-4213-9a8f-89e59c64eefe",
   "metadata": {},
   "source": [
    "## 19"
   ]
  },
  {
   "cell_type": "markdown",
   "id": "c8fb5631-a7ef-4cf2-8c38-e9b795e4006d",
   "metadata": {},
   "source": [
    "## Early Bird Discount\n",
    "If a ticket is booked more than 30 days in advance, apply a 10% discount. Otherwise,\n",
    "charge the full price."
   ]
  },
  {
   "cell_type": "code",
   "execution_count": 3,
   "id": "550cf4ea-6e2e-4194-8815-f33eab62ec7f",
   "metadata": {},
   "outputs": [
    {
     "name": "stdin",
     "output_type": "stream",
     "text": [
      "Enter price of your ticket: 900\n",
      "How long has it been since you booked your ticket? (in days): 99\n"
     ]
    },
    {
     "name": "stdout",
     "output_type": "stream",
     "text": [
      "Since you booked earlier than 30 days you get 10% discount\n",
      "                Thank you for travelling with us.\n",
      "Total price:810.0\n"
     ]
    }
   ],
   "source": [
    "price=float(input(\"Enter price of your ticket:\"))\n",
    "length=float(input(\"How long has it been since you booked your ticket? (in days):\"))\n",
    "if length>30:\n",
    "    disc=price*0.10\n",
    "    price=price-disc\n",
    "    print(\"\"\"Since you booked earlier than 30 days you get 10% discount\n",
    "                Thank you for travelling with us.\"\"\")\n",
    "    print(f\"Total price:{price}\")\n",
    "else:\n",
    "    print(\"Thank you for travelling with us.\")\n",
    "    print(f\"Total price:{price}\")"
   ]
  },
  {
   "cell_type": "markdown",
   "id": "cd4ae127-58dc-4b4f-96f0-9690bf9c4d21",
   "metadata": {},
   "source": [
    "## 20"
   ]
  },
  {
   "cell_type": "markdown",
   "id": "537ab2d4-b453-49cf-bb65-47608b92bb76",
   "metadata": {},
   "source": [
    "## Baggage Fee\n",
    "If the total baggage weight is over 20kg, charge $10 per extra kilogram. Otherwise, no\n",
    "extra fee."
   ]
  },
  {
   "cell_type": "code",
   "execution_count": 3,
   "id": "525e6344-6309-49db-ae50-6117bbc550a6",
   "metadata": {},
   "outputs": [
    {
     "name": "stdin",
     "output_type": "stream",
     "text": [
      "whats the weight of your baggage?: 60\n"
     ]
    },
    {
     "name": "stdout",
     "output_type": "stream",
     "text": [
      "Since you have 40.0 extra kilos, therefore you will have to pay extra\n",
      "                Thank you for travelling with us.\n",
      "Total price:6000.0\n"
     ]
    }
   ],
   "source": [
    "limit=20\n",
    "baggage=float(input(\"whats the weight of your baggage?:\"))\n",
    "if baggage>20:\n",
    "    baggage=baggage-limit\n",
    "    price=baggage*100+2000\n",
    "    print(f\"\"\"Since you have {baggage} extra kilos, therefore you will have to pay extra\n",
    "                Thank you for travelling with us.\"\"\")\n",
    "    print(f\"Total price:{price}\")\n",
    "else:\n",
    "    print(\"Thank you for travelling with us.\")\n",
    "    print(f\"Total price:{price}\")"
   ]
  },
  {
   "cell_type": "markdown",
   "id": "c86db11e-d5fb-4656-af16-ec10673898bf",
   "metadata": {},
   "source": [
    "# E- Grades and Performance"
   ]
  },
  {
   "cell_type": "markdown",
   "id": "6a0051c9-aadb-4c14-87da-399438b3c0d1",
   "metadata": {},
   "source": [
    "## 21"
   ]
  },
  {
   "cell_type": "markdown",
   "id": "673fc557-4675-4c23-9dc2-c14af8344e26",
   "metadata": {},
   "source": [
    "## Pass or Fail\n",
    "If a student scores 40 or more, print \"Pass\". Otherwise, print \"Fail\"."
   ]
  },
  {
   "cell_type": "code",
   "execution_count": 12,
   "id": "874c591d-4691-44fc-b1b4-04181963475a",
   "metadata": {},
   "outputs": [
    {
     "name": "stdin",
     "output_type": "stream",
     "text": [
      "Enter marks of math 40\n",
      "Enter marks of english 40\n",
      "Enter marks of urdu 40\n",
      "Enter marks of computer 40\n",
      "Enter marks of physics 40\n"
     ]
    },
    {
     "name": "stdout",
     "output_type": "stream",
     "text": [
      "You have passed the exams\n",
      "40.0\n"
     ]
    }
   ],
   "source": [
    "totalmarks=500\n",
    "math=float(input(\"Enter marks of math\"))\n",
    "english=float(input(\"Enter marks of english\"))\n",
    "urdu=float(input(\"Enter marks of urdu\"))\n",
    "computer=float(input(\"Enter marks of computer\"))\n",
    "physics=float(input(\"Enter marks of physics\"))\n",
    "earnedmarks=math+english+urdu+computer+physics\n",
    "perc=earnedmarks/totalmarks*100\n",
    "if math<40 or english<40 or urdu<40 or computer<40 or physics<40 and perc<40:\n",
    "    print(\"You have failed the exams.\")\n",
    "else:\n",
    "    print(\"You have passed the exams\")\n",
    "print(perc)    "
   ]
  },
  {
   "cell_type": "markdown",
   "id": "c0aaf0f2-2563-43bc-894e-e101e628c7e7",
   "metadata": {},
   "source": [
    "## 22"
   ]
  },
  {
   "cell_type": "markdown",
   "id": "1d35aa43-1a44-4c6a-89a4-4ac99fc18633",
   "metadata": {},
   "source": [
    "## Grade Assignment\n",
    "Based on a student's score, assign grades:\n",
    "-> 90 and above: \"A\"\n",
    "-> 75–89: \"B\"\n",
    "-> 50–74: \"C\"\n",
    "-> Below 50: \"F\""
   ]
  },
  {
   "cell_type": "code",
   "execution_count": 24,
   "id": "51913a91-5950-408e-ae45-9330192ecf66",
   "metadata": {
    "scrolled": true
   },
   "outputs": [
    {
     "name": "stdin",
     "output_type": "stream",
     "text": [
      "Enter marks of math 99\n",
      "Enter marks of english 23\n",
      "Enter marks of urdu 34\n",
      "Enter marks of computer 45\n",
      "Enter marks of physics 45\n"
     ]
    },
    {
     "name": "stdout",
     "output_type": "stream",
     "text": [
      "Grade F.\n",
      "Your percentage is 49.2.\n"
     ]
    }
   ],
   "source": [
    "totalmarks=500\n",
    "math=float(input(\"Enter marks of math\"))\n",
    "english=float(input(\"Enter marks of english\"))\n",
    "urdu=float(input(\"Enter marks of urdu\"))\n",
    "computer=float(input(\"Enter marks of computer\"))\n",
    "physics=float(input(\"Enter marks of physics\"))\n",
    "earnedmarks=math+english+urdu+computer+physics\n",
    "perc=earnedmarks/totalmarks*100\n",
    "if perc>=90:\n",
    "    print(\"Grade A.\")\n",
    "elif perc>75 and perc<90:  \n",
    "    print(\"Grade B.\")\n",
    "elif perc>50 and perc<75:\n",
    "    print(\"Grade C.\")\n",
    "else:\n",
    "    print(\"Grade F.\")\n",
    "print(f\"Your percentage is {perc}.\")    "
   ]
  },
  {
   "cell_type": "markdown",
   "id": "5d518402-21c7-4262-bd58-6f0143d65869",
   "metadata": {},
   "source": [
    "## 23"
   ]
  },
  {
   "cell_type": "markdown",
   "id": "f3d39744-5847-454d-9679-9c5e3df7bdf5",
   "metadata": {},
   "source": [
    "## Bonus Marks\n",
    "If a student completes all assignments, add 5 bonus marks to their score. Otherwise, no\n",
    "bonus marks."
   ]
  },
  {
   "cell_type": "code",
   "execution_count": 4,
   "id": "3469c6ba-f561-447d-b40f-fb89fdb50778",
   "metadata": {},
   "outputs": [
    {
     "name": "stdin",
     "output_type": "stream",
     "text": [
      "Have you completed and submitted assignment 1? yes\n",
      "Have you completed and submitted assignment 2? yes\n",
      "Have you completed and submitted assignment 3? yes\n"
     ]
    },
    {
     "name": "stdout",
     "output_type": "stream",
     "text": [
      "You get 5 bonus marks, keep it up.\n"
     ]
    }
   ],
   "source": [
    "assignment1=input(\"Have you completed and submitted assignment 1?\").lower()\n",
    "assignment2=input(\"Have you completed and submitted assignment 2?\").lower()\n",
    "assignment3=input(\"Have you completed and submitted assignment 3?\").lower()\n",
    "if assignment1=='yes' and assignment2=='yes' and assignment3=='yes':\n",
    "    print(\"You get 5 bonus marks, keep it up.\")\n",
    "else:\n",
    "    print(\"Try to complete and submit all your assignments on due date\")"
   ]
  },
  {
   "cell_type": "markdown",
   "id": "fea9303a-bf54-409c-a821-a34f50eea91d",
   "metadata": {},
   "source": [
    "## 24"
   ]
  },
  {
   "cell_type": "markdown",
   "id": "784997e9-4f4b-486d-acc4-a7b936909039",
   "metadata": {},
   "source": [
    "## Attendance Eligibility\n",
    "If a student's attendance is 75% or more, they are eligible to take the exam. Otherwise,\n",
    "they are not"
   ]
  },
  {
   "cell_type": "code",
   "execution_count": 23,
   "id": "1b8f3b4b-223e-47c8-ad3e-a3f49305f8f4",
   "metadata": {},
   "outputs": [
    {
     "name": "stdin",
     "output_type": "stream",
     "text": [
      "Out 365 days how many days have you attended the classes? 275\n"
     ]
    },
    {
     "name": "stdout",
     "output_type": "stream",
     "text": [
      "You have 75.34246575342466% attendance therefore you are eligible to take the exams.\n"
     ]
    }
   ],
   "source": [
    "total_days=365\n",
    "attendance=float(input(\"Out 365 days how many days have you attended the classes?\"))\n",
    "eligibility=attendance/total_days*100\n",
    "if eligibility>74:\n",
    "    print(f\"You have {eligibility}% attendance therefore you are eligible to take the exams.\")\n",
    "else:\n",
    "    print(\"Sorry you are not eligible to take the exams due to short of attendance\")"
   ]
  },
  {
   "cell_type": "markdown",
   "id": "dbe65414-d4b5-497c-8145-0b737fe68b64",
   "metadata": {},
   "source": [
    "## 25"
   ]
  },
  {
   "cell_type": "markdown",
   "id": "1cd6195c-87bb-42d7-b33a-4b54c766dbff",
   "metadata": {},
   "source": [
    "## Scholarship Eligibility\n",
    "If a student's grade is \"A\" and their annual family income is below $30,000, they are\n",
    "eligible for a scholarship. Otherwise, they are not."
   ]
  },
  {
   "cell_type": "code",
   "execution_count": 27,
   "id": "0389f4ae-6803-44d3-8573-e65465460d3f",
   "metadata": {},
   "outputs": [
    {
     "name": "stdin",
     "output_type": "stream",
     "text": [
      "What is your current grade? a\n",
      "What is your familys annual income 100000\n"
     ]
    },
    {
     "name": "stdout",
     "output_type": "stream",
     "text": [
      "You are eligible for scholarship\n"
     ]
    }
   ],
   "source": [
    "grade=input(\"What is your current grade?\").capitalize()\n",
    "income=float(input('What is your familys annual income'))\n",
    "if grade=='A' and income<=3000000:\n",
    "    print(\"You are eligible for scholarship\")\n",
    "else:\n",
    "    print(\"Sorry you are not eligible for scholarship\")"
   ]
  },
  {
   "cell_type": "code",
   "execution_count": null,
   "id": "c9db753f-c63e-429b-8f22-ba896df62080",
   "metadata": {},
   "outputs": [],
   "source": []
  }
 ],
 "metadata": {
  "kernelspec": {
   "display_name": "Python 3 (ipykernel)",
   "language": "python",
   "name": "python3"
  },
  "language_info": {
   "codemirror_mode": {
    "name": "ipython",
    "version": 3
   },
   "file_extension": ".py",
   "mimetype": "text/x-python",
   "name": "python",
   "nbconvert_exporter": "python",
   "pygments_lexer": "ipython3",
   "version": "3.12.7"
  }
 },
 "nbformat": 4,
 "nbformat_minor": 5
}
