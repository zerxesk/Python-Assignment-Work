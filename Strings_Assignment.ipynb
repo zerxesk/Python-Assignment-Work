{
 "cells": [
  {
   "cell_type": "markdown",
   "id": "b8c99cf2-1ddf-4494-a648-d8a0a48e09e1",
   "metadata": {},
   "source": [
    "### 1. Write a program that accepts a string from user. Your program should count and display number of vowels in that string. \n"
   ]
  },
  {
   "cell_type": "code",
   "execution_count": 31,
   "id": "5dd31a03-c57d-4d04-b11b-3da5158b9d65",
   "metadata": {},
   "outputs": [
    {
     "name": "stdin",
     "output_type": "stream",
     "text": [
      "Enter string: no vowels allowed\n"
     ]
    },
    {
     "name": "stdout",
     "output_type": "stream",
     "text": [
      "There are 6 vowels in this string\n"
     ]
    }
   ],
   "source": [
    "string=input(\"Enter string:\").lower()\n",
    "vowels=('a','e','i','o','u')\n",
    "count=0\n",
    "for ch in string:\n",
    "    if ch in vowels:\n",
    "        count+=1\n",
    "print(f\"There are {count} vowels in this string\")"
   ]
  },
  {
   "cell_type": "markdown",
   "id": "260d7562-ae1d-47e8-b006-380298aa6de3",
   "metadata": {},
   "source": [
    "### 2. Write a program that reads a string from keyboard and display:\n",
    "* The number of uppercase letters in the string\n",
    "* The number of lowercase letters in the string\n",
    "* The number of digits in the string\n",
    "* The number of whitespace characters in the string"
   ]
  },
  {
   "cell_type": "code",
   "execution_count": 28,
   "id": "dbe2f88d-75c1-4000-9e14-f1b7a30ebc6c",
   "metadata": {},
   "outputs": [
    {
     "name": "stdin",
     "output_type": "stream",
     "text": [
      "Enter string: HH aa22\n"
     ]
    },
    {
     "name": "stdout",
     "output_type": "stream",
     "text": [
      "The number of spaces in your string is: 1\n",
      "The number of digits in your string is: 2\n",
      "The number of lowercase letters in your string is: 2\n",
      "The number of uppercase lettters in your string is: 2\n"
     ]
    }
   ],
   "source": [
    "string=input(\"Enter string:\")\n",
    "count_space=0\n",
    "count_digit=0\n",
    "count_lower=0\n",
    "count_upper=0\n",
    "for a in string:\n",
    "    if a==' ':\n",
    "        count_space+=1\n",
    "    if a.isdigit():\n",
    "        count_digit+=1\n",
    "    if a.islower():\n",
    "        count_lower+=1\n",
    "    if a.isupper():\n",
    "        count_upper+=1\n",
    "print(f\"\"\"The number of spaces in your string is: {count_space}\n",
    "The number of digits in your string is: {count_digit}\n",
    "The number of lowercase letters in your string is: {count_lower}\n",
    "The number of uppercase lettters in your string is: {count_upper}\"\"\")"
   ]
  },
  {
   "cell_type": "markdown",
   "id": "4739441f-8948-42dc-bc33-c26c2764be34",
   "metadata": {},
   "source": [
    "### 3. Write a Python program that accepts a string from user. Your program should create and display a new string where the first and last characters have been exchanged. \n"
   ]
  },
  {
   "cell_type": "code",
   "execution_count": 3,
   "id": "dfb9cd68-7aa7-4f4b-9cc8-ed1bcf49cb8a",
   "metadata": {},
   "outputs": [
    {
     "name": "stdin",
     "output_type": "stream",
     "text": [
      "Enter string: Pakistan\n"
     ]
    },
    {
     "name": "stdout",
     "output_type": "stream",
     "text": [
      "nakistaP\n"
     ]
    }
   ],
   "source": [
    "string=input(\"Enter string:\")\n",
    "if len(string)==1:\n",
    "    print(string)\n",
    "else: \n",
    "    first_ch=string[:1:]\n",
    "    last_ch=string[-1::]\n",
    "    mid_str=string[1:-1:]\n",
    "    new_string=last_ch+mid_str+first_ch\n",
    "    print(new_string)"
   ]
  },
  {
   "cell_type": "markdown",
   "id": "23a39540-4a5d-4914-b723-fad0f4ea7a76",
   "metadata": {},
   "source": [
    "### 4. Write a Python program that accepts a string from user. Your program should create a new string in reverse of first string and display it. "
   ]
  },
  {
   "cell_type": "code",
   "execution_count": 1,
   "id": "f8a472e1-917e-4fe0-91d9-2ceddec4e12e",
   "metadata": {},
   "outputs": [
    {
     "name": "stdin",
     "output_type": "stream",
     "text": [
      "Enter string: esrever ni si margorp sihT\n"
     ]
    },
    {
     "name": "stdout",
     "output_type": "stream",
     "text": [
      "This program is in reverse\n"
     ]
    }
   ],
   "source": [
    "norm_str=input(\"Enter string:\")\n",
    "new_str=norm_str[::-1]\n",
    "print(new_str)"
   ]
  },
  {
   "cell_type": "markdown",
   "id": "da07e97d-4569-4238-9aa8-9f36837422b0",
   "metadata": {},
   "source": [
    "### 5. Write a Python program that accepts a string from user. Your program should create a new string by shifting one position to left. "
   ]
  },
  {
   "cell_type": "code",
   "execution_count": 51,
   "id": "18651374-a7ed-47c1-a5a7-0d281ab55c8e",
   "metadata": {},
   "outputs": [
    {
     "name": "stdin",
     "output_type": "stream",
     "text": [
      "Enter string: examination 2025\n"
     ]
    },
    {
     "name": "stdout",
     "output_type": "stream",
     "text": [
      "xamination 2025e\n"
     ]
    }
   ],
   "source": [
    "string=input(\"Enter string:\")\n",
    "first_ch=string[:1:]\n",
    "mid_str=string[1::]\n",
    "print(mid_str+first_ch)   "
   ]
  },
  {
   "cell_type": "markdown",
   "id": "a2bab3fd-b82a-46d1-850e-9bac6043318b",
   "metadata": {},
   "source": [
    "### 6. Write a program that asks the user to input his name and print its initials. Assuming that the user always types first name, middle name and last name and does not include any unnecessary spaces\n",
    "For example, if the user enters Ajay Kumar Garg the program should display A. K. G.\n",
    "Note:Don't use split() method "
   ]
  },
  {
   "cell_type": "code",
   "execution_count": 12,
   "id": "6e7c4048-5ae2-4481-8129-ed8e0ddb7c7a",
   "metadata": {},
   "outputs": [
    {
     "name": "stdin",
     "output_type": "stream",
     "text": [
      "Enter your full name hammad kalmati baloch\n"
     ]
    },
    {
     "name": "stdout",
     "output_type": "stream",
     "text": [
      "H.K.B."
     ]
    }
   ],
   "source": [
    "name=input(\"Enter your full name\").title()\n",
    "for a in name:\n",
    "    if a.isupper():\n",
    "        print(a,end='.')"
   ]
  },
  {
   "cell_type": "markdown",
   "id": "6be77b09-6b14-4aec-8706-a2156a4ef1a7",
   "metadata": {},
   "source": [
    "### 7. A palindrome is a string that reads the same backward as forward. For example, the words dad, madam and radar are all palindromes. Write a programs that determines whether the string is a palindrome. \n"
   ]
  },
  {
   "cell_type": "code",
   "execution_count": 3,
   "id": "6a4459de-62c4-4b50-a5ed-0f41ee81d70e",
   "metadata": {},
   "outputs": [
    {
     "name": "stdin",
     "output_type": "stream",
     "text": [
      "Enter string: radar\n"
     ]
    },
    {
     "name": "stdout",
     "output_type": "stream",
     "text": [
      "This string is a palindrome\n"
     ]
    }
   ],
   "source": [
    "pal=input(\"Enter string:\").replace(' ','').lower()\n",
    "new_pal=pal[::-1]\n",
    "if new_pal==pal:\n",
    "    print(\"This string is a palindrome\")\n",
    "else:\n",
    "    print(\"This string is not a palindrome\")"
   ]
  },
  {
   "cell_type": "markdown",
   "id": "7e6b75a0-eb6c-4dc2-a589-460b89aa8180",
   "metadata": {},
   "source": [
    "### 8. Write a program that display following output:\n",
    "- SHIFT\n",
    "- HIFTS\n",
    "- IFTSH\n",
    "- FTSHI\n",
    "- TSHIF\n",
    "- SHIFT \n"
   ]
  },
  {
   "cell_type": "code",
   "execution_count": 2,
   "id": "2e31fe51-66dd-4b44-a33e-5c929b5dd6a4",
   "metadata": {},
   "outputs": [
    {
     "name": "stdin",
     "output_type": "stream",
     "text": [
      "Enter string: SHIFT\n"
     ]
    },
    {
     "name": "stdout",
     "output_type": "stream",
     "text": [
      "SHIFT\n",
      "HIFTS\n",
      "IFTSH\n",
      "FTSHI\n",
      "TSHIF\n",
      "SHIFT\n"
     ]
    }
   ],
   "source": [
    "string1=input(\"Enter string:\")\n",
    "for a in range(len(string1)+1):\n",
    "    print(string1)\n",
    "    string1 = string1[1:] + string1[0]"
   ]
  },
  {
   "cell_type": "markdown",
   "id": "28c370e3-4c05-4a52-821d-22eabc2c446c",
   "metadata": {},
   "source": [
    "### 9. Write a program in python that accepts a string to setup a passwords. Your entered password must meet the following requirements:\n",
    "- The password must be at least eight characters long.\n",
    "- It must contain at least one uppercase letter.\n",
    "- It must contain at least one lowercase letter.\n",
    "- It must contain at least one numeric digit.\n",
    "- Your program should should perform this validation. "
   ]
  },
  {
   "cell_type": "code",
   "execution_count": 1,
   "id": "d55a2d72-7b75-462b-a0c7-354dedc8fd97",
   "metadata": {},
   "outputs": [
    {
     "name": "stdin",
     "output_type": "stream",
     "text": [
      "Enter Password: hmmmDtqq\n"
     ]
    },
    {
     "name": "stdout",
     "output_type": "stream",
     "text": [
      "Your pass must contain at least one numeric digit.\n"
     ]
    }
   ],
   "source": [
    "password=input(\"Enter Password:\")\n",
    "if len(password)<7:   \n",
    "    print(\"Your password must be at least 8 characters long\")\n",
    "else:\n",
    "    has_upper=False\n",
    "    has_lower=False\n",
    "    has_digit=False\n",
    "    for a in password:\n",
    "        if a.islower():\n",
    "            has_lower=True\n",
    "        if a.isupper():\n",
    "            has_upper=True\n",
    "        if a.isdigit():\n",
    "            has_digit=True\n",
    "    if not has_lower:\n",
    "        print(\"Your password must contain at least one lowercase letter.\")\n",
    "    if not has_upper:\n",
    "        print(\"Your password must contain at least one uppercase letter.\")\n",
    "    if not has_digit:\n",
    "        print(\"Your pass must contain at least one numeric digit.\")\n",
    "    if has_upper and has_lower and has_digit:\n",
    "        print(\"Your password has been updated\")"
   ]
  },
  {
   "cell_type": "code",
   "execution_count": null,
   "id": "816e4431-02c0-41fb-9ad5-4db6e2d32ab5",
   "metadata": {},
   "outputs": [],
   "source": []
  }
 ],
 "metadata": {
  "kernelspec": {
   "display_name": "Python 3 (ipykernel)",
   "language": "python",
   "name": "python3"
  },
  "language_info": {
   "codemirror_mode": {
    "name": "ipython",
    "version": 3
   },
   "file_extension": ".py",
   "mimetype": "text/x-python",
   "name": "python",
   "nbconvert_exporter": "python",
   "pygments_lexer": "ipython3",
   "version": "3.12.7"
  }
 },
 "nbformat": 4,
 "nbformat_minor": 5
}
