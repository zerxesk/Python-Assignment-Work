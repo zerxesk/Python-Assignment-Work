{
 "cells": [
  {
   "cell_type": "markdown",
   "id": "af655635-90ba-4871-a3ce-acab55fdfde8",
   "metadata": {},
   "source": [
    "# Question 1"
   ]
  },
  {
   "cell_type": "code",
   "execution_count": 7,
   "id": "7b250ea8-fd4b-4efd-a217-82cd151544dc",
   "metadata": {},
   "outputs": [
    {
     "name": "stdin",
     "output_type": "stream",
     "text": [
      "Enter the length of the rectangle:  9\n",
      "Enter the width of the rectangle:  6\n"
     ]
    },
    {
     "name": "stdout",
     "output_type": "stream",
     "text": [
      "The area of rectangle is: 54.0\n"
     ]
    }
   ],
   "source": [
    "Length=float(input(\"Enter the length of the rectangle: \"))\n",
    "Width=float(input(\"Enter the width of the rectangle: \"))\n",
    "Result=Length*Width\n",
    "print(f\"The area of rectangle is: {Result}\")"
   ]
  },
  {
   "cell_type": "markdown",
   "id": "0950547c-01c0-4520-bdbf-efeb6d1ef402",
   "metadata": {},
   "source": [
    "# Question 2"
   ]
  },
  {
   "cell_type": "code",
   "execution_count": 3,
   "id": "c87fc010-f902-44db-9c6a-92b706508c90",
   "metadata": {},
   "outputs": [
    {
     "name": "stdin",
     "output_type": "stream",
     "text": [
      "Enter the radius of the circle:  43\n"
     ]
    },
    {
     "name": "stdout",
     "output_type": "stream",
     "text": [
      "The circumference of the circle is: 270.04\n"
     ]
    }
   ],
   "source": [
    "radius=float(input(\"Enter the radius of the circle: \"))\n",
    "pi=3.14\n",
    "circumference=2*pi*radius\n",
    "print(f\"The circumference of the circle is: {circumference}\")"
   ]
  },
  {
   "cell_type": "markdown",
   "id": "d3c4562b-0f56-4972-99ed-cdf9b1bfabac",
   "metadata": {},
   "source": [
    "# Question 3"
   ]
  },
  {
   "cell_type": "code",
   "execution_count": 10,
   "id": "c58e1a1b-39fa-4139-b10b-efbdd0e7d554",
   "metadata": {},
   "outputs": [
    {
     "name": "stdin",
     "output_type": "stream",
     "text": [
      "Enter Principle:  1500000\n",
      "Enter rate:  3\n",
      "Enter time in years:  10\n"
     ]
    },
    {
     "name": "stdout",
     "output_type": "stream",
     "text": [
      "Total interest: 45000000.0\n"
     ]
    }
   ],
   "source": [
    "principle=float(input(\"Enter Principle:\"))\n",
    "rate=float(input(\"Enter rate: \"))\n",
    "time=float(input(\"Enter time in years: \"))\n",
    "simpint=principle*rate*time\n",
    "print(f\"Total interest: {simpint}\")"
   ]
  },
  {
   "cell_type": "markdown",
   "id": "81d4a79d-50cf-48ab-ae95-ba8477999bb0",
   "metadata": {},
   "source": [
    "# Question 4"
   ]
  },
  {
   "cell_type": "code",
   "execution_count": 8,
   "id": "ea72bc10-436a-4c7a-b723-a77f375021e4",
   "metadata": {},
   "outputs": [
    {
     "name": "stdin",
     "output_type": "stream",
     "text": [
      "Enter distance:  700\n",
      "Enter time:  2\n"
     ]
    },
    {
     "name": "stdout",
     "output_type": "stream",
     "text": [
      "The speed of the object is: 350.0 kms/hr\n"
     ]
    }
   ],
   "source": [
    "dist=float(input(\"Enter distance: \"))\n",
    "time=float(input(\"Enter time: \"))\n",
    "speed=dist/time\n",
    "print(f\"The speed of the object is: {speed} kms/hr\")"
   ]
  },
  {
   "cell_type": "markdown",
   "id": "d6d103ba-11a3-459e-b5a6-99dd30cb83b1",
   "metadata": {},
   "source": [
    "# Question 5"
   ]
  },
  {
   "cell_type": "code",
   "execution_count": 2,
   "id": "ba40e53f-cd59-4fab-a24f-24af79d29041",
   "metadata": {},
   "outputs": [
    {
     "name": "stdin",
     "output_type": "stream",
     "text": [
      "Enter weight in kg: 75\n",
      "Enter height in meters: 1.8\n"
     ]
    },
    {
     "name": "stdout",
     "output_type": "stream",
     "text": [
      "BMI = 23.148148148148145\n"
     ]
    }
   ],
   "source": [
    "weight=float(input(\"Enter weight in kg:\"))\n",
    "height=float(input(\"Enter height in meters:\"))\n",
    "bmi=weight/height**2\n",
    "print(f\"BMI = {bmi}\")"
   ]
  },
  {
   "cell_type": "markdown",
   "id": "1c61e0f2-0e09-4b64-8eab-70c7bda1a212",
   "metadata": {},
   "source": [
    "# Question 6"
   ]
  },
  {
   "cell_type": "code",
   "execution_count": 7,
   "id": "8c7d6d93-b7ee-4813-bc0c-90c508e47e16",
   "metadata": {},
   "outputs": [
    {
     "name": "stdin",
     "output_type": "stream",
     "text": [
      "Enter mass in kg: 60\n",
      "Enter acceleration in meters/s²: 7.2\n"
     ]
    },
    {
     "name": "stdout",
     "output_type": "stream",
     "text": [
      "The force of the object is: 432.0\n"
     ]
    }
   ],
   "source": [
    "m=float(input(\"Enter mass in kg:\"))\n",
    "a=float(input(\"Enter acceleration in meters/s²:\"))\n",
    "force=m*a\n",
    "print(f\"The force of the object is: {force}\")"
   ]
  },
  {
   "cell_type": "markdown",
   "id": "5e7290f9-1529-4eb1-adda-af4c117d2e71",
   "metadata": {},
   "source": [
    "# Question 7"
   ]
  },
  {
   "cell_type": "code",
   "execution_count": 11,
   "id": "e7a5fa14-33bf-49fb-b02c-2d77bdc1eb1b",
   "metadata": {},
   "outputs": [
    {
     "name": "stdin",
     "output_type": "stream",
     "text": [
      "Enter Principle: 9000\n",
      "Enter rate:  2.5\n",
      "Enter time in years:  12\n",
      "Enter number of times interest is compounded in a year: 1\n"
     ]
    },
    {
     "name": "stdout",
     "output_type": "stream",
     "text": [
      "The total:378000.0 \n"
     ]
    }
   ],
   "source": [
    "p=float(input(\"Enter Principle:\"))\n",
    "r=float(input(\"Enter rate: \"))\n",
    "t=float(input(\"Enter time in years: \"))\n",
    "n=float(input(\"Enter number of times interest is compounded in a year:\"))\n",
    "A=p*(1+r/n)**n*t\n",
    "print(f\"The total:{A} \")"
   ]
  },
  {
   "cell_type": "markdown",
   "id": "34d2d391-107c-40f9-8b71-2ab0175bbcf0",
   "metadata": {},
   "source": [
    "# Question 8"
   ]
  },
  {
   "cell_type": "code",
   "execution_count": 2,
   "id": "384298c7-aebc-4ecf-b2bb-89d05cd033eb",
   "metadata": {},
   "outputs": [
    {
     "name": "stdin",
     "output_type": "stream",
     "text": [
      "Enter length of side a:  9\n",
      "Enter length of side b:  8\n",
      "Enter length of side c:  6\n"
     ]
    },
    {
     "name": "stdout",
     "output_type": "stream",
     "text": [
      "The perimeter of the triangle is:23.0\n"
     ]
    }
   ],
   "source": [
    "a=float(input(\"Enter length of side a: \"))\n",
    "b=float(input(\"Enter length of side b: \"))\n",
    "c=float(input(\"Enter length of side c: \"))\n",
    "perim=a+b+c\n",
    "print(f\"The perimeter of the triangle is:{perim}\")"
   ]
  },
  {
   "cell_type": "markdown",
   "id": "996e27a9-38ee-40b9-a8b8-dbdb345bd7af",
   "metadata": {},
   "source": [
    "# Question 9"
   ]
  },
  {
   "cell_type": "code",
   "execution_count": 13,
   "id": "0a74da4a-adbe-4791-93af-a04b9ca0c934",
   "metadata": {},
   "outputs": [
    {
     "name": "stdin",
     "output_type": "stream",
     "text": [
      "Enter radius: 32\n"
     ]
    },
    {
     "name": "stdout",
     "output_type": "stream",
     "text": [
      "The volume of the sphere is:137188.69333333333\n"
     ]
    }
   ],
   "source": [
    "rad=float(input(\"Enter radius:\"))\n",
    "vol=(4/3)*pi*rad**3\n",
    "print(f\"The volume of the sphere is:{vol}\")"
   ]
  },
  {
   "cell_type": "markdown",
   "id": "df8738ba-1173-48bd-9c14-3545f6681d9f",
   "metadata": {},
   "source": [
    "# Question 10"
   ]
  },
  {
   "cell_type": "code",
   "execution_count": 12,
   "id": "d5b74bc8-42be-4cef-b27a-75550b27dd46",
   "metadata": {},
   "outputs": [
    {
     "name": "stdin",
     "output_type": "stream",
     "text": [
      "Enter mass: 32\n",
      "Enter velocity: 12\n"
     ]
    },
    {
     "name": "stdout",
     "output_type": "stream",
     "text": [
      "Kinetic energy:2304.0\n"
     ]
    }
   ],
   "source": [
    "mass=float(input(\"Enter mass:\"))\n",
    "vel=float(input(\"Enter velocity:\"))\n",
    "ke=(1/2)*mass*vel**2\n",
    "print(f\"Kinetic energy:{ke}\")"
   ]
  },
  {
   "cell_type": "markdown",
   "id": "69db6f54-e292-4c5a-950d-697ea5f13557",
   "metadata": {},
   "source": [
    "# Question 11"
   ]
  },
  {
   "cell_type": "code",
   "execution_count": null,
   "id": "adb8cab4-9cdd-4133-afa8-3d41d9ba35c4",
   "metadata": {},
   "outputs": [],
   "source": []
  },
  {
   "cell_type": "markdown",
   "id": "bf55eae6-a831-480e-b9b1-db60a0d6c936",
   "metadata": {},
   "source": [
    "# Question 12"
   ]
  },
  {
   "cell_type": "code",
   "execution_count": 5,
   "id": "9def4abd-8ce8-4c16-873f-e054b6842144",
   "metadata": {},
   "outputs": [
    {
     "name": "stdin",
     "output_type": "stream",
     "text": [
      "Enter temperature in celsius: 32\n"
     ]
    },
    {
     "name": "stdout",
     "output_type": "stream",
     "text": [
      "Temperature in fahrenheit:89.6\n"
     ]
    }
   ],
   "source": [
    "cels=float(input(\"Enter temperature in celsius:\"))\n",
    "far=(9/5*cels)+32\n",
    "print(f\"Temperature in fahrenheit:{far}\")"
   ]
  },
  {
   "cell_type": "markdown",
   "id": "b42f4191-864c-44ae-b556-1bd06fe9e60b",
   "metadata": {},
   "source": [
    "# Question 13"
   ]
  },
  {
   "cell_type": "code",
   "execution_count": 4,
   "id": "fc1d1a3d-c842-4e65-82a8-1f7b290e28cd",
   "metadata": {},
   "outputs": [
    {
     "name": "stdin",
     "output_type": "stream",
     "text": [
      "Enter mass of Object1: 40\n",
      "Enter mass of Object2: 100\n",
      "Enter distance b/w centers of objects: 1\n"
     ]
    },
    {
     "name": "stdout",
     "output_type": "stream",
     "text": [
      "Gravitational force b/w the two objects is: 2.6691999999999996e-07\n"
     ]
    }
   ],
   "source": [
    "m1=float(input(\"Enter mass of Object1:\"))\n",
    "m2=float(input(\"Enter mass of Object2:\"))\n",
    "rr=float(input(\"Enter distance b/w centers of objects:\"))\n",
    "G=6.673*(10**-11)\n",
    "f1=(G*m1*m2)/(rr**2)\n",
    "print(f\"Gravitational force b/w the two objects is: {f1}\")"
   ]
  },
  {
   "cell_type": "markdown",
   "id": "b02ad109-e7e6-439f-8ec2-63d2fd660e45",
   "metadata": {},
   "source": [
    "# Question 14"
   ]
  },
  {
   "cell_type": "code",
   "execution_count": 7,
   "id": "3a0762b8-69ba-4e97-98db-d11f9127a48f",
   "metadata": {},
   "outputs": [
    {
     "name": "stdin",
     "output_type": "stream",
     "text": [
      "Enter radius: 31\n",
      "Enter height: 12\n"
     ]
    },
    {
     "name": "stdout",
     "output_type": "stream",
     "text": [
      "Volume is: 36210.479999999996\n"
     ]
    }
   ],
   "source": [
    "r=float(input(\"Enter radius:\"))\n",
    "h=float(input(\"Enter height:\"))\n",
    "pi=3.14\n",
    "vol1=(pi*r**2)*h\n",
    "print(f\"Volume is: {vol1}\")"
   ]
  },
  {
   "cell_type": "markdown",
   "id": "a4195cee-67eb-4cae-81e2-1d8e12326cc6",
   "metadata": {},
   "source": [
    "# Question 15"
   ]
  },
  {
   "cell_type": "code",
   "execution_count": 8,
   "id": "7222bc6d-dada-46b8-8455-d4f7c856c001",
   "metadata": {},
   "outputs": [
    {
     "name": "stdin",
     "output_type": "stream",
     "text": [
      "Enter force: 555\n",
      "Enter area: 10000\n"
     ]
    },
    {
     "name": "stdout",
     "output_type": "stream",
     "text": [
      "Pressure is: 0.0555\n"
     ]
    }
   ],
   "source": [
    "F=float(input(\"Enter force:\"))\n",
    "A=float(input(\"Enter area:\"))\n",
    "P=F/A\n",
    "print(f\"Pressure is: {P}\")"
   ]
  },
  {
   "cell_type": "markdown",
   "id": "46bfcc99-d679-4611-92d4-f0fe93e78c57",
   "metadata": {},
   "source": [
    "# Question 16"
   ]
  },
  {
   "cell_type": "code",
   "execution_count": 11,
   "id": "8113d351-b128-4d9f-9a7f-d69774bd4e46",
   "metadata": {},
   "outputs": [
    {
     "name": "stdin",
     "output_type": "stream",
     "text": [
      "Enter voltage: 2000\n",
      "Enter current: 1000\n"
     ]
    },
    {
     "name": "stdout",
     "output_type": "stream",
     "text": [
      "Power is: 2.0\n"
     ]
    }
   ],
   "source": [
    "V=float(input(\"Enter voltage:\"))\n",
    "I=float(input(\"Enter current:\"))\n",
    "Pow=V/I\n",
    "print(f\"Power is: {Pow}\")"
   ]
  },
  {
   "cell_type": "markdown",
   "id": "81190790-f43c-42c0-8f1f-e198d862f4c3",
   "metadata": {},
   "source": [
    "# Question 17"
   ]
  },
  {
   "cell_type": "code",
   "execution_count": 13,
   "id": "911f9aea-fae8-4de8-ab92-326be42015de",
   "metadata": {},
   "outputs": [
    {
     "name": "stdin",
     "output_type": "stream",
     "text": [
      "Enter radius: 99\n"
     ]
    },
    {
     "name": "stdout",
     "output_type": "stream",
     "text": [
      "Perimeter of Circle is:621.72\n"
     ]
    }
   ],
   "source": [
    "r=float(input(\"Enter radius:\"))\n",
    "pi=3.14\n",
    "P=2*pi*r\n",
    "print(f\"Perimeter of Circle is:{P}\")"
   ]
  },
  {
   "cell_type": "markdown",
   "id": "9cb7cd1e-2c4e-417e-9a25-0e5a12580df8",
   "metadata": {},
   "source": [
    "# Question 18"
   ]
  },
  {
   "cell_type": "code",
   "execution_count": 17,
   "id": "6e00f3a4-1192-49a1-bc6c-8e57ce1d1285",
   "metadata": {},
   "outputs": [
    {
     "name": "stdin",
     "output_type": "stream",
     "text": [
      "Enter Present Value: 1000000\n",
      "Enter annual interest rate: 1\n",
      "Enter time in years: 1\n"
     ]
    },
    {
     "name": "stdout",
     "output_type": "stream",
     "text": [
      "Future value:2000000.0\n"
     ]
    }
   ],
   "source": [
    "PV=float(input(\"Enter Present Value:\"))\n",
    "ra=float(input(\"Enter annual interest rate:\"))\n",
    "ti=float(input(\"Enter time in years:\"))\n",
    "FV=PV*(1+ra)*ti\n",
    "print(f\"Future value:{FV}\")"
   ]
  },
  {
   "cell_type": "markdown",
   "id": "6a7a0c1d-2381-4e21-915d-93e37ca7f1b0",
   "metadata": {},
   "source": [
    "# Question 19"
   ]
  },
  {
   "cell_type": "code",
   "execution_count": 1,
   "id": "42cdd05c-4e5b-45b0-8139-c9e9a50f82ba",
   "metadata": {},
   "outputs": [
    {
     "name": "stdin",
     "output_type": "stream",
     "text": [
      "Enter force: 500\n",
      "Enter distance: 23\n",
      "Enter theta: 1\n"
     ]
    },
    {
     "name": "stdout",
     "output_type": "stream",
     "text": [
      "Total work done:11500.0\n"
     ]
    }
   ],
   "source": [
    "f=float(input(\"Enter force:\"))\n",
    "d=float(input(\"Enter distance:\"))\n",
    "theta=float(input(\"Enter theta:\"))\n",
    "w=(f*d)*theta\n",
    "print(f\"Total work done:{w}\")"
   ]
  },
  {
   "cell_type": "markdown",
   "id": "99b95218-764b-494d-a647-2b0cad200d2f",
   "metadata": {},
   "source": [
    "# Question 20"
   ]
  },
  {
   "cell_type": "code",
   "execution_count": 2,
   "id": "5413f9a9-4c0f-4875-82b0-aa0d48507d69",
   "metadata": {},
   "outputs": [
    {
     "name": "stdin",
     "output_type": "stream",
     "text": [
      "Enter mass: 60000\n",
      "Enter specific heat capacity: 54\n",
      "Enter change: 32\n"
     ]
    },
    {
     "name": "stdout",
     "output_type": "stream",
     "text": [
      "Total heat transferred:103680000.0\n"
     ]
    }
   ],
   "source": [
    "m=float(input(\"Enter mass:\"))\n",
    "c=float(input(\"Enter specific heat capacity:\"))\n",
    "T=float(input(\"Enter change:\"))\n",
    "Q=m*c*T\n",
    "print(f\"Total heat transferred:{Q}\")"
   ]
  },
  {
   "cell_type": "code",
   "execution_count": null,
   "id": "339ce3b7-a34a-45ee-981f-0ffc5410bcc0",
   "metadata": {},
   "outputs": [],
   "source": []
  }
 ],
 "metadata": {
  "kernelspec": {
   "display_name": "Python 3 (ipykernel)",
   "language": "python",
   "name": "python3"
  },
  "language_info": {
   "codemirror_mode": {
    "name": "ipython",
    "version": 3
   },
   "file_extension": ".py",
   "mimetype": "text/x-python",
   "name": "python",
   "nbconvert_exporter": "python",
   "pygments_lexer": "ipython3",
   "version": "3.12.7"
  }
 },
 "nbformat": 4,
 "nbformat_minor": 5
}
