{
 "cells": [
  {
   "cell_type": "markdown",
   "id": "6c18af80-610c-4b5c-9c17-f2ab1e2ffb31",
   "metadata": {},
   "source": [
    "### Task1:\n",
    "#### You need to write a function in python that return all such numbers which are divisible by 7 but are not a multiple of 5, between 2000 and 3200 (both included). Return the obtained numbers in a comma-separated sequence on a single line. "
   ]
  },
  {
   "cell_type": "code",
   "execution_count": 24,
   "id": "b75fa066-bd43-4926-aa56-21ea2c59ef5e",
   "metadata": {},
   "outputs": [],
   "source": [
    "def divisors_of_7():\n",
    "    obt=[]\n",
    "    \n",
    "    for num in range(2000,3201):\n",
    "        if num%7==0 and num%5!=0:\n",
    "                obt.append(str(num))\n",
    "\n",
    "    \n",
    "    return ','.join(obt)"
   ]
  },
  {
   "cell_type": "code",
   "execution_count": 25,
   "id": "2cf910da-e781-4a2b-a38d-7f9a3532eca7",
   "metadata": {},
   "outputs": [
    {
     "data": {
      "text/plain": [
       "'2002,2009,2016,2023,2037,2044,2051,2058,2072,2079,2086,2093,2107,2114,2121,2128,2142,2149,2156,2163,2177,2184,2191,2198,2212,2219,2226,2233,2247,2254,2261,2268,2282,2289,2296,2303,2317,2324,2331,2338,2352,2359,2366,2373,2387,2394,2401,2408,2422,2429,2436,2443,2457,2464,2471,2478,2492,2499,2506,2513,2527,2534,2541,2548,2562,2569,2576,2583,2597,2604,2611,2618,2632,2639,2646,2653,2667,2674,2681,2688,2702,2709,2716,2723,2737,2744,2751,2758,2772,2779,2786,2793,2807,2814,2821,2828,2842,2849,2856,2863,2877,2884,2891,2898,2912,2919,2926,2933,2947,2954,2961,2968,2982,2989,2996,3003,3017,3024,3031,3038,3052,3059,3066,3073,3087,3094,3101,3108,3122,3129,3136,3143,3157,3164,3171,3178,3192,3199'"
      ]
     },
     "execution_count": 25,
     "metadata": {},
     "output_type": "execute_result"
    }
   ],
   "source": [
    "divisors_of_7()"
   ]
  },
  {
   "cell_type": "markdown",
   "id": "9ee70850-949b-4c85-b30f-93430a878dc5",
   "metadata": {},
   "source": [
    "### Task2:\n",
    "You need code a function that calculates and returns the value according to the\n",
    "given formula:\n",
    "P = Square root of [(2 * A * B)/C]\n",
    "Following are the fixed values of A and B:\n",
    "A is 50. B is 30.\n",
    "The values of the literal C should be taken as console input to your program in a\n",
    "comma-separated sequence. \n"
   ]
  },
  {
   "cell_type": "code",
   "execution_count": 26,
   "id": "05499b1c-4c8e-4575-9ead-6111f711ff7d",
   "metadata": {},
   "outputs": [
    {
     "name": "stdin",
     "output_type": "stream",
     "text": [
      "Enter values for C (comma-separated):  100,150,180\n"
     ]
    },
    {
     "name": "stdout",
     "output_type": "stream",
     "text": [
      "Results: 5.48, 4.47, 4.08\n"
     ]
    }
   ],
   "source": [
    "def calculate_p(c_values):\n",
    "    import math\n",
    "    \n",
    "    A = 50\n",
    "    B = 30\n",
    "    result = []\n",
    "    \n",
    "    for C in c_values:\n",
    "        P = math.sqrt((2 * A * B) / C)\n",
    "        result.append(round(P,2)) \n",
    "    return result\n",
    "    \n",
    "input_values = input(\"Enter values for C (comma-separated): \")\n",
    "c_values = [float(c) for c in input_values.split(',')]  \n",
    "results = calculate_p(c_values)\n",
    "print(\"Results:\", ', '.join(map(str, results)))\n"
   ]
  },
  {
   "cell_type": "markdown",
   "id": "51859376-a0bd-4d69-9839-4f8934e7c330",
   "metadata": {},
   "source": [
    "### Task3:\n",
    "You need to write a function that takes a comma separated sequence of words as\n",
    "input and prints the words in a comma-separated sequence after sorting them\n",
    "alphabetically. "
   ]
  },
  {
   "cell_type": "code",
   "execution_count": 27,
   "id": "47e7a01c-058d-4fe3-9f7c-24e7ee5dc83c",
   "metadata": {},
   "outputs": [],
   "source": [
    "def sort_alpha():\n",
    "    words = input(\"Enter words (comma seperated)\").split(',')\n",
    "    ','.join(words)\n",
    "    words.sort()\n",
    "    print(words)"
   ]
  },
  {
   "cell_type": "code",
   "execution_count": 28,
   "id": "a1800681-e679-4c05-90e1-e8f89046cbdc",
   "metadata": {},
   "outputs": [
    {
     "name": "stdin",
     "output_type": "stream",
     "text": [
      "Enter words (comma seperated) and,i,o,idk\n"
     ]
    },
    {
     "name": "stdout",
     "output_type": "stream",
     "text": [
      "['and', 'i', 'idk', 'o']\n"
     ]
    }
   ],
   "source": [
    "sort_alpha()"
   ]
  },
  {
   "cell_type": "markdown",
   "id": "9bb3342e-2a15-4c11-bf28-72b86dc795b5",
   "metadata": {},
   "source": [
    "# Task4:\n",
    "You need to write a program that takes sequence of lines as input and prints the\n",
    "lines after making all characters in the sentence capitalized. "
   ]
  },
  {
   "cell_type": "code",
   "execution_count": 29,
   "id": "ba7e182d-6e9b-43bc-9e08-3e0cfb21cdab",
   "metadata": {},
   "outputs": [],
   "source": [
    "def make_upper():\n",
    "\n",
    "    \"\"\"It takes no arguments, rather you call it first then it takes the argument\n",
    "    and makes whatever you write capitalized\"\"\"\n",
    "    \n",
    "    lines = input('Enter lines to capitalize: ')\n",
    "    #iterating through the line\n",
    "    for i in lines:\n",
    "        #capitalizing every character one by one and assigning it\n",
    "        lines = i.upper() \n",
    "        print(lines,end='')"
   ]
  },
  {
   "cell_type": "code",
   "execution_count": 31,
   "id": "43879447-99a3-4196-b257-e0dd5e57e9ba",
   "metadata": {},
   "outputs": [
    {
     "name": "stdin",
     "output_type": "stream",
     "text": [
      "Enter lines to capitalize:  yes\n"
     ]
    },
    {
     "name": "stdout",
     "output_type": "stream",
     "text": [
      "YES"
     ]
    }
   ],
   "source": [
    "make_upper()"
   ]
  },
  {
   "cell_type": "markdown",
   "id": "2195eb3a-40fd-4ec9-aab6-cb389e650417",
   "metadata": {},
   "source": [
    "### Task5:\n",
    "You need to write a function that counts the number of vowels in a given\n",
    "sentence as input from console. \n"
   ]
  },
  {
   "cell_type": "code",
   "execution_count": 32,
   "id": "8f9f4dcf-9c46-475b-8063-c29e2c575376",
   "metadata": {},
   "outputs": [],
   "source": [
    "def count_vowels(string=None):\n",
    "    if string==None:\n",
    "        string = input(\"Enter sentence\")\n",
    "        \n",
    "    a = ['a']\n",
    "    e = ['e']\n",
    "    i = ['i']\n",
    "    o = ['o']\n",
    "    u = ['u'] \n",
    "    \n",
    "    for ch in string:\n",
    "        if ch in a:\n",
    "            a.append(ch)\n",
    "        if ch in e:\n",
    "            e.append(ch)\n",
    "        if ch in i:\n",
    "            i.append(ch)\n",
    "        if ch in o:\n",
    "            o.append(ch)\n",
    "        if ch in u:\n",
    "            u.append(ch)\n",
    "\n",
    "    \n",
    "    print(f\"\"\"number of times a appeared in this sentence: {len(a)-1}   \n",
    "number of times e appeared in this sentence: {len(e)-1}\n",
    "number of times i appeared in this sentence: {len(i)-1}\n",
    "number of times o appeared in this sentence: {len(o)-1}\n",
    "number of times u appeared in this sentence: {len(u)-1}\"\"\")\n",
    "    "
   ]
  },
  {
   "cell_type": "code",
   "execution_count": 33,
   "id": "11d350fd-fa68-4019-a9cb-7df3374e4b64",
   "metadata": {},
   "outputs": [
    {
     "name": "stdin",
     "output_type": "stream",
     "text": [
      "Enter sentence i am hammad kalmati\n"
     ]
    },
    {
     "name": "stdout",
     "output_type": "stream",
     "text": [
      "number of times a appeared in this sentence: 5   \n",
      "number of times e appeared in this sentence: 0\n",
      "number of times i appeared in this sentence: 2\n",
      "number of times o appeared in this sentence: 0\n",
      "number of times u appeared in this sentence: 0\n"
     ]
    }
   ],
   "source": [
    "count_vowels()"
   ]
  },
  {
   "cell_type": "code",
   "execution_count": 34,
   "id": "f5eab6f1-3e26-4a4a-822e-a0eb97abdc8d",
   "metadata": {},
   "outputs": [
    {
     "name": "stdout",
     "output_type": "stream",
     "text": [
      "number of times a appeared in this sentence: 5   \n",
      "number of times e appeared in this sentence: 0\n",
      "number of times i appeared in this sentence: 2\n",
      "number of times o appeared in this sentence: 0\n",
      "number of times u appeared in this sentence: 0\n"
     ]
    }
   ],
   "source": [
    "count_vowels('i am hammad kalmati')"
   ]
  },
  {
   "cell_type": "markdown",
   "id": "82cd5d79-b65f-4c7c-b633-1aaf9db158fe",
   "metadata": {},
   "source": [
    "# Task6:\n",
    "You need write a function that traces and makes a list of all such numbers\n",
    "from1000 to 3000 in which all the digits are even numbers. "
   ]
  },
  {
   "cell_type": "code",
   "execution_count": 55,
   "id": "790bec3c-2d3f-42c1-89da-e4abb5de8ef6",
   "metadata": {},
   "outputs": [],
   "source": [
    "def find_even_range():\n",
    "    even_list = []\n",
    "    for num in range(1000,3001):\n",
    "        if num%2==0:\n",
    "            even_list.append(str(num))\n",
    "    return ', '.join(even_list)"
   ]
  },
  {
   "cell_type": "code",
   "execution_count": 56,
   "id": "9d30e1b3-273f-4bb6-9a77-7683a07e4de3",
   "metadata": {},
   "outputs": [
    {
     "data": {
      "text/plain": [
       "'1000, 1002, 1004, 1006, 1008, 1010, 1012, 1014, 1016, 1018, 1020, 1022, 1024, 1026, 1028, 1030, 1032, 1034, 1036, 1038, 1040, 1042, 1044, 1046, 1048, 1050, 1052, 1054, 1056, 1058, 1060, 1062, 1064, 1066, 1068, 1070, 1072, 1074, 1076, 1078, 1080, 1082, 1084, 1086, 1088, 1090, 1092, 1094, 1096, 1098, 1100, 1102, 1104, 1106, 1108, 1110, 1112, 1114, 1116, 1118, 1120, 1122, 1124, 1126, 1128, 1130, 1132, 1134, 1136, 1138, 1140, 1142, 1144, 1146, 1148, 1150, 1152, 1154, 1156, 1158, 1160, 1162, 1164, 1166, 1168, 1170, 1172, 1174, 1176, 1178, 1180, 1182, 1184, 1186, 1188, 1190, 1192, 1194, 1196, 1198, 1200, 1202, 1204, 1206, 1208, 1210, 1212, 1214, 1216, 1218, 1220, 1222, 1224, 1226, 1228, 1230, 1232, 1234, 1236, 1238, 1240, 1242, 1244, 1246, 1248, 1250, 1252, 1254, 1256, 1258, 1260, 1262, 1264, 1266, 1268, 1270, 1272, 1274, 1276, 1278, 1280, 1282, 1284, 1286, 1288, 1290, 1292, 1294, 1296, 1298, 1300, 1302, 1304, 1306, 1308, 1310, 1312, 1314, 1316, 1318, 1320, 1322, 1324, 1326, 1328, 1330, 1332, 1334, 1336, 1338, 1340, 1342, 1344, 1346, 1348, 1350, 1352, 1354, 1356, 1358, 1360, 1362, 1364, 1366, 1368, 1370, 1372, 1374, 1376, 1378, 1380, 1382, 1384, 1386, 1388, 1390, 1392, 1394, 1396, 1398, 1400, 1402, 1404, 1406, 1408, 1410, 1412, 1414, 1416, 1418, 1420, 1422, 1424, 1426, 1428, 1430, 1432, 1434, 1436, 1438, 1440, 1442, 1444, 1446, 1448, 1450, 1452, 1454, 1456, 1458, 1460, 1462, 1464, 1466, 1468, 1470, 1472, 1474, 1476, 1478, 1480, 1482, 1484, 1486, 1488, 1490, 1492, 1494, 1496, 1498, 1500, 1502, 1504, 1506, 1508, 1510, 1512, 1514, 1516, 1518, 1520, 1522, 1524, 1526, 1528, 1530, 1532, 1534, 1536, 1538, 1540, 1542, 1544, 1546, 1548, 1550, 1552, 1554, 1556, 1558, 1560, 1562, 1564, 1566, 1568, 1570, 1572, 1574, 1576, 1578, 1580, 1582, 1584, 1586, 1588, 1590, 1592, 1594, 1596, 1598, 1600, 1602, 1604, 1606, 1608, 1610, 1612, 1614, 1616, 1618, 1620, 1622, 1624, 1626, 1628, 1630, 1632, 1634, 1636, 1638, 1640, 1642, 1644, 1646, 1648, 1650, 1652, 1654, 1656, 1658, 1660, 1662, 1664, 1666, 1668, 1670, 1672, 1674, 1676, 1678, 1680, 1682, 1684, 1686, 1688, 1690, 1692, 1694, 1696, 1698, 1700, 1702, 1704, 1706, 1708, 1710, 1712, 1714, 1716, 1718, 1720, 1722, 1724, 1726, 1728, 1730, 1732, 1734, 1736, 1738, 1740, 1742, 1744, 1746, 1748, 1750, 1752, 1754, 1756, 1758, 1760, 1762, 1764, 1766, 1768, 1770, 1772, 1774, 1776, 1778, 1780, 1782, 1784, 1786, 1788, 1790, 1792, 1794, 1796, 1798, 1800, 1802, 1804, 1806, 1808, 1810, 1812, 1814, 1816, 1818, 1820, 1822, 1824, 1826, 1828, 1830, 1832, 1834, 1836, 1838, 1840, 1842, 1844, 1846, 1848, 1850, 1852, 1854, 1856, 1858, 1860, 1862, 1864, 1866, 1868, 1870, 1872, 1874, 1876, 1878, 1880, 1882, 1884, 1886, 1888, 1890, 1892, 1894, 1896, 1898, 1900, 1902, 1904, 1906, 1908, 1910, 1912, 1914, 1916, 1918, 1920, 1922, 1924, 1926, 1928, 1930, 1932, 1934, 1936, 1938, 1940, 1942, 1944, 1946, 1948, 1950, 1952, 1954, 1956, 1958, 1960, 1962, 1964, 1966, 1968, 1970, 1972, 1974, 1976, 1978, 1980, 1982, 1984, 1986, 1988, 1990, 1992, 1994, 1996, 1998, 2000, 2002, 2004, 2006, 2008, 2010, 2012, 2014, 2016, 2018, 2020, 2022, 2024, 2026, 2028, 2030, 2032, 2034, 2036, 2038, 2040, 2042, 2044, 2046, 2048, 2050, 2052, 2054, 2056, 2058, 2060, 2062, 2064, 2066, 2068, 2070, 2072, 2074, 2076, 2078, 2080, 2082, 2084, 2086, 2088, 2090, 2092, 2094, 2096, 2098, 2100, 2102, 2104, 2106, 2108, 2110, 2112, 2114, 2116, 2118, 2120, 2122, 2124, 2126, 2128, 2130, 2132, 2134, 2136, 2138, 2140, 2142, 2144, 2146, 2148, 2150, 2152, 2154, 2156, 2158, 2160, 2162, 2164, 2166, 2168, 2170, 2172, 2174, 2176, 2178, 2180, 2182, 2184, 2186, 2188, 2190, 2192, 2194, 2196, 2198, 2200, 2202, 2204, 2206, 2208, 2210, 2212, 2214, 2216, 2218, 2220, 2222, 2224, 2226, 2228, 2230, 2232, 2234, 2236, 2238, 2240, 2242, 2244, 2246, 2248, 2250, 2252, 2254, 2256, 2258, 2260, 2262, 2264, 2266, 2268, 2270, 2272, 2274, 2276, 2278, 2280, 2282, 2284, 2286, 2288, 2290, 2292, 2294, 2296, 2298, 2300, 2302, 2304, 2306, 2308, 2310, 2312, 2314, 2316, 2318, 2320, 2322, 2324, 2326, 2328, 2330, 2332, 2334, 2336, 2338, 2340, 2342, 2344, 2346, 2348, 2350, 2352, 2354, 2356, 2358, 2360, 2362, 2364, 2366, 2368, 2370, 2372, 2374, 2376, 2378, 2380, 2382, 2384, 2386, 2388, 2390, 2392, 2394, 2396, 2398, 2400, 2402, 2404, 2406, 2408, 2410, 2412, 2414, 2416, 2418, 2420, 2422, 2424, 2426, 2428, 2430, 2432, 2434, 2436, 2438, 2440, 2442, 2444, 2446, 2448, 2450, 2452, 2454, 2456, 2458, 2460, 2462, 2464, 2466, 2468, 2470, 2472, 2474, 2476, 2478, 2480, 2482, 2484, 2486, 2488, 2490, 2492, 2494, 2496, 2498, 2500, 2502, 2504, 2506, 2508, 2510, 2512, 2514, 2516, 2518, 2520, 2522, 2524, 2526, 2528, 2530, 2532, 2534, 2536, 2538, 2540, 2542, 2544, 2546, 2548, 2550, 2552, 2554, 2556, 2558, 2560, 2562, 2564, 2566, 2568, 2570, 2572, 2574, 2576, 2578, 2580, 2582, 2584, 2586, 2588, 2590, 2592, 2594, 2596, 2598, 2600, 2602, 2604, 2606, 2608, 2610, 2612, 2614, 2616, 2618, 2620, 2622, 2624, 2626, 2628, 2630, 2632, 2634, 2636, 2638, 2640, 2642, 2644, 2646, 2648, 2650, 2652, 2654, 2656, 2658, 2660, 2662, 2664, 2666, 2668, 2670, 2672, 2674, 2676, 2678, 2680, 2682, 2684, 2686, 2688, 2690, 2692, 2694, 2696, 2698, 2700, 2702, 2704, 2706, 2708, 2710, 2712, 2714, 2716, 2718, 2720, 2722, 2724, 2726, 2728, 2730, 2732, 2734, 2736, 2738, 2740, 2742, 2744, 2746, 2748, 2750, 2752, 2754, 2756, 2758, 2760, 2762, 2764, 2766, 2768, 2770, 2772, 2774, 2776, 2778, 2780, 2782, 2784, 2786, 2788, 2790, 2792, 2794, 2796, 2798, 2800, 2802, 2804, 2806, 2808, 2810, 2812, 2814, 2816, 2818, 2820, 2822, 2824, 2826, 2828, 2830, 2832, 2834, 2836, 2838, 2840, 2842, 2844, 2846, 2848, 2850, 2852, 2854, 2856, 2858, 2860, 2862, 2864, 2866, 2868, 2870, 2872, 2874, 2876, 2878, 2880, 2882, 2884, 2886, 2888, 2890, 2892, 2894, 2896, 2898, 2900, 2902, 2904, 2906, 2908, 2910, 2912, 2914, 2916, 2918, 2920, 2922, 2924, 2926, 2928, 2930, 2932, 2934, 2936, 2938, 2940, 2942, 2944, 2946, 2948, 2950, 2952, 2954, 2956, 2958, 2960, 2962, 2964, 2966, 2968, 2970, 2972, 2974, 2976, 2978, 2980, 2982, 2984, 2986, 2988, 2990, 2992, 2994, 2996, 2998, 3000'"
      ]
     },
     "execution_count": 56,
     "metadata": {},
     "output_type": "execute_result"
    }
   ],
   "source": [
    "find_even_range()"
   ]
  },
  {
   "cell_type": "markdown",
   "id": "cb09bafd-0a1d-47c5-a3dc-9e6b59cb3642",
   "metadata": {},
   "source": [
    "# Task7:\n",
    "You need to write a code which accepts a sequence of comma separated 4 digit\n",
    "binary numbers as its input and then check whether they are divisible by 5 or not.\n",
    "The numbers that are divisible by 5 are to be printed in a comma separated\n",
    "sequence. "
   ]
  },
  {
   "cell_type": "code",
   "execution_count": 5,
   "id": "7a90e47e-aaef-4c3e-b7a8-64b2811e17ed",
   "metadata": {},
   "outputs": [],
   "source": [
    "def binary_div_5():\n",
    "    binary = input(\"Enter 4-digit binary numbers separated by commas: \").split(',')\n",
    "    divisible = []\n",
    "    if len(binary) > 4:\n",
    "        print('Enter only 4 binary numbers.')\n",
    "        return\n",
    "    \n",
    "    for b in binary:\n",
    "        try:\n",
    "            deci = int(b, 2)\n",
    "            if deci % 5 == 0:\n",
    "                divisible.append(b)\n",
    "        except ValueError:\n",
    "            print(f\"Invalid binary number: {b}\")\n",
    "            return\n",
    "    \n",
    "    print(','.join(divisible) if divisible else \"No numbers divisible by 5.\")\n"
   ]
  },
  {
   "cell_type": "code",
   "execution_count": 7,
   "id": "7f2e5c03-5dc8-4d2b-8283-f74a5676941f",
   "metadata": {},
   "outputs": [
    {
     "name": "stdin",
     "output_type": "stream",
     "text": [
      "Enter 4-digit binary numbers separated by commas:  0100,0011,1010,1001\n"
     ]
    },
    {
     "name": "stdout",
     "output_type": "stream",
     "text": [
      "1010\n"
     ]
    }
   ],
   "source": [
    "binary_div_5()"
   ]
  },
  {
   "cell_type": "markdown",
   "id": "66173fa5-69db-4785-beb3-fd7a8f01f6a4",
   "metadata": {},
   "source": [
    "# Task8:\n",
    "Write a program that accepts a sentence and calculate the number of letters and\n",
    "digits."
   ]
  },
  {
   "cell_type": "code",
   "execution_count": 70,
   "id": "97d414d8-483f-46e1-b3dd-2ce6e2e0c73f",
   "metadata": {},
   "outputs": [],
   "source": [
    "def count_letters_digits(string = None):\n",
    "    \n",
    "    if string==None:\n",
    "        string = input(\"Enter sentence\")\n",
    "\n",
    "    letters = 0\n",
    "    digits = 0\n",
    "    \n",
    "    for i in string:\n",
    "        if i.isalpha():\n",
    "            letters = letters+1\n",
    "        if i.isdigit():\n",
    "            digits = digits+1\n",
    "            \n",
    "    print(f\"number of letters {letters} \\nnumber of digits {digits}\")"
   ]
  },
  {
   "cell_type": "code",
   "execution_count": 71,
   "id": "41d67c11-1760-4b6f-a011-6f1aa2667c7e",
   "metadata": {},
   "outputs": [
    {
     "name": "stdout",
     "output_type": "stream",
     "text": [
      "number of letters 5 \n",
      "number of digits 3\n"
     ]
    }
   ],
   "source": [
    "count_letters_digits(\"Hello 123\")"
   ]
  },
  {
   "cell_type": "code",
   "execution_count": null,
   "id": "dff45254-f54e-4965-a39a-1537eff3f34f",
   "metadata": {},
   "outputs": [],
   "source": []
  }
 ],
 "metadata": {
  "kernelspec": {
   "display_name": "Python 3 (ipykernel)",
   "language": "python",
   "name": "python3"
  },
  "language_info": {
   "codemirror_mode": {
    "name": "ipython",
    "version": 3
   },
   "file_extension": ".py",
   "mimetype": "text/x-python",
   "name": "python",
   "nbconvert_exporter": "python",
   "pygments_lexer": "ipython3",
   "version": "3.12.7"
  }
 },
 "nbformat": 4,
 "nbformat_minor": 5
}
