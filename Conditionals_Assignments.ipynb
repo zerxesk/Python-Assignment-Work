{
 "cells": [
  {
   "cell_type": "markdown",
   "id": "006b51e7-1cc8-418c-99ad-9636e6a38843",
   "metadata": {},
   "source": [
    "#                                       Conditional Structures "
   ]
  },
  {
   "cell_type": "markdown",
   "id": "aabf1d81-5860-4f86-9f07-a94b8e5240be",
   "metadata": {},
   "source": [
    "### 1. Write a program that prompts the user to input a number and display if the number is even or odd."
   ]
  },
  {
   "cell_type": "code",
   "execution_count": 7,
   "id": "a819a61b-70d8-4262-9a57-9874b3189036",
   "metadata": {},
   "outputs": [
    {
     "name": "stdin",
     "output_type": "stream",
     "text": [
      "Enter Number: 5\n"
     ]
    },
    {
     "name": "stdout",
     "output_type": "stream",
     "text": [
      "5 is a odd number\n"
     ]
    }
   ],
   "source": [
    "num=int(input(\"Enter Number:\"))\n",
    "if num%2==0:\n",
    "    print(f\"{num} is an even number\")\n",
    "else:\n",
    "    print(f\"{num} is a odd number\")\n"
   ]
  },
  {
   "cell_type": "markdown",
   "id": "bf25ead4-1132-4fb1-b885-b5ed4c8ebd05",
   "metadata": {},
   "source": [
    "### 2. Write a Python program that takes an age as input and determines whether a person is eligible to vote. If the age is 18 or above, print \"You are eligible to vote.\" Otherwise, print \"You are not eligible to vote yet.\". \n"
   ]
  },
  {
   "cell_type": "code",
   "execution_count": 10,
   "id": "3be46f2d-a96b-440e-81dc-01675ada897a",
   "metadata": {},
   "outputs": [
    {
     "name": "stdin",
     "output_type": "stream",
     "text": [
      "Enter your age: 7\n"
     ]
    },
    {
     "name": "stdout",
     "output_type": "stream",
     "text": [
      "You are not eligible to vote yet\n"
     ]
    }
   ],
   "source": [
    "age=int(input(\"Enter your age:\"))\n",
    "if age>=18:\n",
    "    print(\"You are eligible to vote\")\n",
    "else:\n",
    "    print(\"You are not eligible to vote yet\")"
   ]
  },
  {
   "cell_type": "markdown",
   "id": "b04ff504-96ef-43e0-98d5-91b1562bf6d2",
   "metadata": {},
   "source": [
    "### 3. Write a program that prompts the user to input two integers and outputs the largest"
   ]
  },
  {
   "cell_type": "code",
   "execution_count": 11,
   "id": "831dfb65-2d9b-415a-a8f6-ccfbd33bf3ed",
   "metadata": {},
   "outputs": [
    {
     "name": "stdin",
     "output_type": "stream",
     "text": [
      "Enter number 1: 70\n",
      "Enter number 2: 89\n"
     ]
    },
    {
     "name": "stdout",
     "output_type": "stream",
     "text": [
      "89 is the largest of the two numbers\n"
     ]
    }
   ],
   "source": [
    "num1=int(input(\"Enter number 1:\"))\n",
    "num2=int(input(\"Enter number 2:\"))\n",
    "if num1>num2:\n",
    "    print(f\"{num1} is the largest of the two numbers\")\n",
    "else:\n",
    "    print(f\"{num2} is the largest of the two numbers\")"
   ]
  },
  {
   "cell_type": "markdown",
   "id": "77cc30dd-32b5-4b7e-bbbd-019c7f6eee37",
   "metadata": {},
   "source": [
    "### 4. Write a program that prompts the user to enter a number and determines whether it is positive, negative, or zero. The program should print \"Positive\" if the number is greater than 0, \"Negative\" if the number is less than 0, and \"Zero\" if the number is 0. "
   ]
  },
  {
   "cell_type": "code",
   "execution_count": 15,
   "id": "1a9e9cec-dc4e-4ce7-8483-e57c308d72eb",
   "metadata": {},
   "outputs": [
    {
     "name": "stdin",
     "output_type": "stream",
     "text": [
      "Enter number: 0\n"
     ]
    },
    {
     "name": "stdout",
     "output_type": "stream",
     "text": [
      "Zero\n"
     ]
    }
   ],
   "source": [
    "numb=int(input(\"Enter number:\"))\n",
    "if numb>0:\n",
    "    print(\"Positive\")\n",
    "elif numb<0:\n",
    "    print(\"Negative\")\n",
    "else:\n",
    "    print(\"Zero\")"
   ]
  },
  {
   "cell_type": "markdown",
   "id": "8af9b4c8-7d11-429d-9d4a-2e4183fd6e78",
   "metadata": {},
   "source": [
    "### 5. Write a program that prompts the user to enter their age and prints the corresponding age group. The program should use the following age groups:\n",
    "0-12: Child,\n",
    "13-19: Teenager,\n",
    "20-59: Adult,\n",
    "60 and above: Senior Citizen"
   ]
  },
  {
   "cell_type": "code",
   "execution_count": 2,
   "id": "cf0f5450-05f0-4006-af50-06e33aadeca7",
   "metadata": {},
   "outputs": [
    {
     "name": "stdin",
     "output_type": "stream",
     "text": [
      "Enter your age: 3\n"
     ]
    },
    {
     "name": "stdout",
     "output_type": "stream",
     "text": [
      "Child\n"
     ]
    }
   ],
   "source": [
    "age=int(input(\"Enter your age:\"))\n",
    "if age<=12:\n",
    "    print(\"Child\")\n",
    "elif age<=19:\n",
    "    print(\"Teenager\")\n",
    "elif age<=59:\n",
    "    print(\"Adult\")\n",
    "else:\n",
    "    print(\"Senior Citizen\")"
   ]
  },
  {
   "cell_type": "markdown",
   "id": "9294c91c-34c7-470c-b906-d0eef17d042b",
   "metadata": {},
   "source": [
    "### 6. Write a program that prompts the user to input a number from 1 to 7. The program should display the corresponding day for the given number.\n",
    "For example, if the user\n",
    "types 1, the output should be Sunday. If the user types 7, the output should be\n",
    "Saturday. If the number is not between 1 to 7 user should get error message as shown\n",
    "in sample output. \n"
   ]
  },
  {
   "cell_type": "code",
   "execution_count": 28,
   "id": "03fc83c1-585c-4672-9c2d-a678599b9bb7",
   "metadata": {},
   "outputs": [
    {
     "name": "stdin",
     "output_type": "stream",
     "text": [
      "Enter number: 6\n"
     ]
    },
    {
     "name": "stdout",
     "output_type": "stream",
     "text": [
      "Friday\n"
     ]
    }
   ],
   "source": [
    "numo=int(input(\"Enter number:\"))\n",
    "if numo==1:\n",
    "    print(\"Sunday\")\n",
    "elif numo==2:\n",
    "    print(\"Monday\")\n",
    "elif numo==3:\n",
    "    print(\"Tuesday\")\n",
    "elif numo==4:\n",
    "    print(\"Wednesday\")\n",
    "elif numo==5:\n",
    "    print(\"Thursday\")\n",
    "elif numo==6:\n",
    "    print(\"Friday\")\n",
    "elif numo==7:\n",
    "    print(\"Saturday\")\n",
    "else:\n",
    "    print(\"Error\")"
   ]
  },
  {
   "cell_type": "markdown",
   "id": "cf12f2b5-b3ff-49e2-a7aa-d5f3a13dd215",
   "metadata": {},
   "source": [
    "### 7. Write a program that prompts the user to enter their weight (in kilograms) and height (in meters).\n",
    "The program should calculate the Body Mass Index (BMI) using the formula:\n",
    "BMI = weight / (height * height). The program should then classify the BMI into one of\n",
    "the following categories: "
   ]
  },
  {
   "cell_type": "code",
   "execution_count": 1,
   "id": "ca6cfdd3-771f-447c-87b0-b9c3fe53b208",
   "metadata": {},
   "outputs": [
    {
     "name": "stdin",
     "output_type": "stream",
     "text": [
      "Enter weight in kg: 49\n",
      "Enter height in meters: 1.79\n"
     ]
    },
    {
     "name": "stdout",
     "output_type": "stream",
     "text": [
      "Underweight\n"
     ]
    }
   ],
   "source": [
    "weight=float(input(\"Enter weight in kg:\"))\n",
    "height=float(input(\"Enter height in meters:\"))\n",
    "bmi=weight/height**2\n",
    "if bmi<18.5:\n",
    "    print(\"Underweight\")\n",
    "elif bmi<=24.9:\n",
    "    print(\"Normal weight\")\n",
    "elif bmi<=29.9:\n",
    "    print(\"Over weight\")\n",
    "else:\n",
    "    print(\"Normal weight\")"
   ]
  },
  {
   "cell_type": "markdown",
   "id": "4f75f46c-852c-42b5-a69e-359484b20436",
   "metadata": {},
   "source": [
    "### 8. The marks obtained by a student in 3 different subjects are input by the user. Your program should calculate the average of subjects and display the grade. The student gets a grade as per the following rules: \n",
    "Average Grade\n",
    "\n",
    "90-100 A,\n",
    "80-89 B,\n",
    "70-79 C,\n",
    "60-69 D,\n",
    "0-59 F \n"
   ]
  },
  {
   "cell_type": "code",
   "execution_count": 1,
   "id": "b66a191e-b8d2-4227-b526-c9553589f5a2",
   "metadata": {},
   "outputs": [
    {
     "name": "stdin",
     "output_type": "stream",
     "text": [
      "Enter marks of math 98\n",
      "Enter marks of computer 66\n",
      "Enter marks of physics 34\n"
     ]
    },
    {
     "name": "stdout",
     "output_type": "stream",
     "text": [
      "Grade D.\n"
     ]
    }
   ],
   "source": [
    "totalmarks=300\n",
    "math=float(input(\"Enter marks of math\"))\n",
    "computer=float(input(\"Enter marks of computer\"))\n",
    "physics=float(input(\"Enter marks of physics\"))\n",
    "earnedmarks=math+computer+physics\n",
    "perc=earnedmarks/totalmarks*100\n",
    "if perc<=100 and perc>90:\n",
    "    print(\"Grade A.\")\n",
    "elif perc<=89 and perc>80:  \n",
    "    print(\"Grade B.\")\n",
    "elif perc<=79 and perc>70:\n",
    "    print(\"Grade C.\")\n",
    "elif perc<=69 and perc>60:\n",
    "    print(\"Grade D.\")\n",
    "else:\n",
    "    print(\"Grade F.\")\n"
   ]
  },
  {
   "cell_type": "markdown",
   "id": "36acfb8b-347a-48e7-9c81-2d91e361f43a",
   "metadata": {},
   "source": [
    "### 9. The roots of the quadratic equation ax^2+ bx + c = 0, a ≠ 0 are given by the following formula\n",
    "#### (- b plus/minus sqrt(b^2 - 4ac))/(2a)\n",
    "In this formula, the term b^2 - 4ac is called the discriminant. If b^2 - 4ac = 0, then the\n",
    "equation has two equal roots.\n",
    "If b^2 - 4ac > 0, the equation has two real roots. If b^2 - 4ac < 0, the equation has two\n",
    "complex roots.\n",
    "Write a program that prompts the user to input the value of a (the coefficient of x^2\n",
    "), b\n",
    "(the coefficient of x), and c (the constant term) and outputs the roots of the quadratic\n",
    "equation. \n"
   ]
  },
  {
   "cell_type": "code",
   "execution_count": 2,
   "id": "b96e4c77-d035-456c-8081-0e51fe0fe4c4",
   "metadata": {},
   "outputs": [
    {
     "name": "stdin",
     "output_type": "stream",
     "text": [
      "Enter value of a: 4\n",
      "Enter value of b: 2\n",
      "Enter value of c: 4\n"
     ]
    },
    {
     "name": "stdout",
     "output_type": "stream",
     "text": [
      "The equation has two complex roots\n",
      "The roots of these Quadratic Equations are (-0.25000000000000006-0.9682458365518543j) and (-0.24999999999999994+0.9682458365518543j)\n"
     ]
    }
   ],
   "source": [
    "a=float(input(\"Enter value of a:\")) \n",
    "b=float(input(\"Enter value of b:\"))\n",
    "c=float(input(\"Enter value of c:\"))\n",
    "disc=b**2 - 4*a*c\n",
    "if disc==0:\n",
    "    print(\"The equation has two equal roots\")        #In this program i first calculated the term (b^2 - 4ac) then after that i put a condition whether it was equal,less or greater than 0 to get how many roots it has after that i proceded to calculate the rest according to formula\n",
    "elif disc>0:\n",
    "    print(\"The equation has two real roots\")\n",
    "else:\n",
    "    print(\"The equation has two complex roots\")\n",
    "    \n",
    "root1=(-b - disc**0.5)/(2*a)\n",
    "root2=(-b + disc**0.5)/(2*a)\n",
    "print(f\"The roots of these Quadratic Equations are {root1} and {root2}\")"
   ]
  },
  {
   "cell_type": "markdown",
   "id": "3ae8deb1-dc49-4134-9d72-614a9a32da44",
   "metadata": {},
   "source": [
    "### 11. Write a program that prompts the user to input three integers and outputs the largest. "
   ]
  },
  {
   "cell_type": "code",
   "execution_count": 11,
   "id": "45e7143f-eb81-42f2-8083-2e21c9dae51b",
   "metadata": {},
   "outputs": [
    {
     "name": "stdin",
     "output_type": "stream",
     "text": [
      "Enter number 1 12232\n",
      "Enter number 2 3233222123312\n",
      "Enter number 3 12\n"
     ]
    },
    {
     "name": "stdout",
     "output_type": "stream",
     "text": [
      "3233222123312 \n",
      " 12232 \n",
      " 12\n"
     ]
    }
   ],
   "source": [
    "numb1=int(input(\"Enter number 1\"))\n",
    "numb2=int(input(\"Enter number 2\"))\n",
    "numb3=int(input(\"Enter number 3\"))\n",
    "if numb1>numb2 and numb1>numb3 and numb2>numb3:\n",
    "    print(f\"{numb1} \\n {numb2} \\n {numb3}\")\n",
    "elif numb2>numb1 and numb2>numb3 and numb1>numb3:\n",
    "    print(f\"{numb2} \\n {numb1} \\n {numb3}\")\n",
    "elif numb3>numb1 and numb3>numb2 and numb2>numb1:\n",
    "    print(f\"{numb3}\\n{numb2}\\n{numb1}\")"
   ]
  },
  {
   "cell_type": "markdown",
   "id": "2cc7fda7-4541-40df-97d2-5f4cf1da8c9c",
   "metadata": {},
   "source": [
    "### 12. Write a program that prompts the user to input a character and determine the character is vowel or consonant. "
   ]
  },
  {
   "cell_type": "code",
   "execution_count": 13,
   "id": "dafb9fc5-5ddf-4f92-99cf-e2dd9c07c31d",
   "metadata": {},
   "outputs": [
    {
     "name": "stdin",
     "output_type": "stream",
     "text": [
      "Enter a character o\n"
     ]
    },
    {
     "name": "stdout",
     "output_type": "stream",
     "text": [
      "o is a vowel\n"
     ]
    }
   ],
   "source": [
    "vowels=['a','e','i','o','u']\n",
    "char=input(\"Enter a character\")\n",
    "if char in vowels:\n",
    "    print(f\"{char} is a vowel\")\n",
    "else:\n",
    "    print(f\"{char} is a consonant\")"
   ]
  },
  {
   "cell_type": "markdown",
   "id": "300c0d7c-8ddb-4898-800d-cce68d41d92b",
   "metadata": {},
   "source": [
    "### 13. Write a program that prompts the user to input a year and determine whether the year is a leap year or not.\n",
    "Leap Years are any year that can be evenly divided by 4. A year that is evenly divisible by\n",
    "100 is a leap year only if it is also evenly divisible by 400."
   ]
  },
  {
   "cell_type": "code",
   "execution_count": 6,
   "id": "98e3110f-941e-402b-9de2-fe1221b988b2",
   "metadata": {},
   "outputs": [
    {
     "name": "stdin",
     "output_type": "stream",
     "text": [
      "Enter year 2028\n"
     ]
    },
    {
     "name": "stdout",
     "output_type": "stream",
     "text": [
      "2028 is a leap year\n"
     ]
    }
   ],
   "source": [
    "leap_yr=int(input(\"Enter year\"))\n",
    "if leap_yr%4==0:\n",
    "    if leap_yr%100==0:\n",
    "        if leap_yr%400==0:\n",
    "            print(f\"{leap_yr} is a leap year\")\n",
    "        else:\n",
    "            print(f\"{leap_yr} is not a leap year\")\n",
    "    else:\n",
    "        print(f\"{leap_yr} is a leap year\")\n",
    "else:\n",
    "    print(f\"{leap_yr} is not a leap year\")"
   ]
  },
  {
   "cell_type": "markdown",
   "id": "5b2aa34e-3a89-464c-babd-f876e6fed5e0",
   "metadata": {},
   "source": [
    "### 14. Write a program that prompts the user to input number of calls and calculate the monthly telephone bills as per the following rule:\n",
    "Minimum Rs. 200 for up to 100 calls.\n",
    "Plus Rs. 0.60 per call for next 50 calls.\n",
    "Plus Rs. 0.50 per call for next 50 calls.\n",
    "Plus Rs. 0.40 per call for any call beyond 200 calls."
   ]
  },
  {
   "cell_type": "code",
   "execution_count": 34,
   "id": "4d48eaed-5907-4243-9399-05107eda5a33",
   "metadata": {},
   "outputs": [
    {
     "name": "stdin",
     "output_type": "stream",
     "text": [
      "Enter number of calls 160\n"
     ]
    },
    {
     "name": "stdout",
     "output_type": "stream",
     "text": [
      "           --------------------\n",
      "           Number of calls:160\n",
      "           Total monthly bill:225.0\n",
      "           --------------------\n"
     ]
    }
   ],
   "source": [
    "base=200\n",
    "add=0\n",
    "calls=int(input(\"Enter number of calls\"))\n",
    "if calls<=100:\n",
    "    pass\n",
    "elif calls<=150:\n",
    "    add=0.60*50\n",
    "    base+=add\n",
    "elif calls<=200:\n",
    "    add=0.50*50\n",
    "    base+=add\n",
    "else:\n",
    "    add=0.40*50\n",
    "    base+=add\n",
    "print(f\"\"\"           --------------------\n",
    "           Number of calls:{calls}\n",
    "           Total monthly bill:{base}\n",
    "           --------------------\"\"\")"
   ]
  },
  {
   "cell_type": "code",
   "execution_count": null,
   "id": "28f523dd-515d-4cd8-a3f7-e79ddc195657",
   "metadata": {},
   "outputs": [],
   "source": []
  }
 ],
 "metadata": {
  "kernelspec": {
   "display_name": "Python 3 (ipykernel)",
   "language": "python",
   "name": "python3"
  },
  "language_info": {
   "codemirror_mode": {
    "name": "ipython",
    "version": 3
   },
   "file_extension": ".py",
   "mimetype": "text/x-python",
   "name": "python",
   "nbconvert_exporter": "python",
   "pygments_lexer": "ipython3",
   "version": "3.12.7"
  }
 },
 "nbformat": 4,
 "nbformat_minor": 5
}
