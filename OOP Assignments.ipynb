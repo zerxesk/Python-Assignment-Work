{
 "cells": [
  {
   "cell_type": "markdown",
   "id": "49557390-7e30-4ef3-ab5c-aa69c7e43734",
   "metadata": {},
   "source": [
    "# 1. Write a Python program to create a class called \"Person\" with properties for name, age and country. Include a method to display the person's details. Create two instances of the 'Person' class and display their details. "
   ]
  },
  {
   "cell_type": "code",
   "execution_count": 14,
   "id": "897bfb9e-bc35-4f99-852e-f62a1f8d8ade",
   "metadata": {},
   "outputs": [],
   "source": [
    "class Person():\n",
    "    def __init__(self,name,age,country):\n",
    "        self.name = name\n",
    "        self.age = age\n",
    "        self.country = country\n",
    "    def get_details(self):\n",
    "        print(f\"\"\"\n",
    "        Name: {self.name}\n",
    "        Age: {self.age}\n",
    "        Country: {self.country}\"\"\")\n",
    "        \n",
    "        \n",
    "        "
   ]
  },
  {
   "cell_type": "code",
   "execution_count": 15,
   "id": "a2748481-654e-4f59-b03d-61cb05b1170a",
   "metadata": {},
   "outputs": [],
   "source": [
    "p1 = Person(\"Hammad\",20,\"Pakistan\")"
   ]
  },
  {
   "cell_type": "code",
   "execution_count": 18,
   "id": "727793b2-73f5-4c98-bb8a-dbb5845bb403",
   "metadata": {},
   "outputs": [
    {
     "name": "stdout",
     "output_type": "stream",
     "text": [
      "\n",
      "        Name: Hammad\n",
      "        Age: 20\n",
      "        Country: Pakistan\n"
     ]
    }
   ],
   "source": [
    "p1.get_details()"
   ]
  },
  {
   "cell_type": "code",
   "execution_count": 19,
   "id": "ed7332b2-f052-4191-8ea2-bf2a359f0bec",
   "metadata": {},
   "outputs": [],
   "source": [
    "p2 = Person(\"Ahmad\",19, \"Syria\")"
   ]
  },
  {
   "cell_type": "code",
   "execution_count": 20,
   "id": "bfc8ea47-f793-42e5-a1fc-812896377ab9",
   "metadata": {},
   "outputs": [
    {
     "name": "stdout",
     "output_type": "stream",
     "text": [
      "\n",
      "        Name: Ahmad\n",
      "        Age: 19\n",
      "        Country: Syria\n"
     ]
    }
   ],
   "source": [
    "p2.get_details()"
   ]
  },
  {
   "cell_type": "markdown",
   "id": "af25c10f-4ab7-48d4-9248-6b1f0c8a1bdd",
   "metadata": {},
   "source": [
    "# 2. Write a Python program to create a class called 'Rectangle' with properties for width and height. Include two methods to calculate rectangle area and perimeter. Create an instance of the 'Rectangle' class and calculate its area and perimeter. \n"
   ]
  },
  {
   "cell_type": "code",
   "execution_count": 26,
   "id": "e644fbac-0f43-40cb-9492-10e3f5ec5a7d",
   "metadata": {},
   "outputs": [],
   "source": [
    "class Rectangle():\n",
    "    def __init__(self,width,height):\n",
    "        self.width = width\n",
    "        self.height = height\n",
    "    def calculate_area(self):\n",
    "        area = self.height * self.width\n",
    "        return area\n",
    "        print(f\"The area of the triangle is {area}.\")\n",
    "    def calculate_perimeter(self):\n",
    "        P = 2 * (self.height + self.width)\n",
    "        return P\n",
    "        print(f\"The Perimeter of the rectangle is {P}.\")"
   ]
  },
  {
   "cell_type": "code",
   "execution_count": 27,
   "id": "6ca66fa4-947c-409e-8b7f-36a7571b681c",
   "metadata": {},
   "outputs": [],
   "source": [
    "r1 = Rectangle(8.5,9)"
   ]
  },
  {
   "cell_type": "code",
   "execution_count": 28,
   "id": "0e7cb024-75c2-44ef-84f0-a978c82487b3",
   "metadata": {},
   "outputs": [
    {
     "data": {
      "text/plain": [
       "76.5"
      ]
     },
     "execution_count": 28,
     "metadata": {},
     "output_type": "execute_result"
    }
   ],
   "source": [
    "r1.calculate_area()"
   ]
  },
  {
   "cell_type": "code",
   "execution_count": 29,
   "id": "86ef44ee-bbaa-4ed5-9f10-1ae1ba4c6496",
   "metadata": {},
   "outputs": [
    {
     "data": {
      "text/plain": [
       "35.0"
      ]
     },
     "execution_count": 29,
     "metadata": {},
     "output_type": "execute_result"
    }
   ],
   "source": [
    "r1.calculate_perimeter()"
   ]
  },
  {
   "cell_type": "markdown",
   "id": "f5aedcf3-288c-4fff-8c9e-b686cd389ab4",
   "metadata": {},
   "source": [
    "# 3. Write a Python program that creates a class called 'Vehicle' with properties for make, model, and year. Include a method to display vehicle details. Create a subclass called 'Car' that inherits from the 'Vehicle' class and includes an additional property for the number of doors. Override the display method to include the number of doors. "
   ]
  },
  {
   "cell_type": "code",
   "execution_count": 39,
   "id": "1213d7db-92b2-46ba-81ff-323335be9a1f",
   "metadata": {},
   "outputs": [],
   "source": [
    "class Vehicle():\n",
    "    def __init__(self,model,make,year):\n",
    "        self.model = model\n",
    "        self.year = year\n",
    "        self.make = make\n",
    "    def get_details(self):\n",
    "        print(f\"\"\"\n",
    "        Model: {self.model}\n",
    "        Year: {self.year}\n",
    "        Make: {self.make}\"\"\")"
   ]
  },
  {
   "cell_type": "code",
   "execution_count": 44,
   "id": "57c1e2ff-5f5b-47b4-acb6-6739cbaa3491",
   "metadata": {},
   "outputs": [],
   "source": [
    "v1 = Vehicle(\"Har Gadi\",\"Sabzal\",2030)"
   ]
  },
  {
   "cell_type": "code",
   "execution_count": 45,
   "id": "31782b2d-ccb5-4a74-844b-cc0139e87924",
   "metadata": {},
   "outputs": [
    {
     "name": "stdout",
     "output_type": "stream",
     "text": [
      "\n",
      "        Model: Har Gadi\n",
      "        Year: 2030\n",
      "        Make: Sabzal\n"
     ]
    }
   ],
   "source": [
    "v1.get_details()"
   ]
  },
  {
   "cell_type": "code",
   "execution_count": 50,
   "id": "2be38db7-6a3f-4d90-807e-69156015de27",
   "metadata": {},
   "outputs": [],
   "source": [
    "class Car(Vehicle):\n",
    "    def __init__(self,door,model,make,year):\n",
    "        super().__init__(model,make,year)\n",
    "        self.door = door\n",
    "    def get_details(self):\n",
    "         print(f\"\"\"\n",
    "        Model: {self.model}\n",
    "        Year: {self.year}\n",
    "        Make: {self.make}\n",
    "        No. of doors: {self.door}\"\"\")"
   ]
  },
  {
   "cell_type": "code",
   "execution_count": 51,
   "id": "fad2ab68-4cc2-497f-bbf1-1064902bf90a",
   "metadata": {},
   "outputs": [],
   "source": [
    "c1 = Car(4,\"Civic\",\"Honda\",\"2024\")"
   ]
  },
  {
   "cell_type": "code",
   "execution_count": 53,
   "id": "f192e653-8e0c-4b76-8146-c7b12b2ac378",
   "metadata": {},
   "outputs": [
    {
     "name": "stdout",
     "output_type": "stream",
     "text": [
      "\n",
      "        Model: Civic\n",
      "        Year: 2024\n",
      "        Make: Honda\n",
      "        No. of doors: 4\n"
     ]
    }
   ],
   "source": [
    "c1.get_details()"
   ]
  },
  {
   "cell_type": "markdown",
   "id": "14e00b7b-09a5-49bd-8ad4-d847f25462ba",
   "metadata": {},
   "source": [
    "# 4. Write a Python program that creates a class called \"BankAccount\" with properties for account number and balance. Include methods to deposit and withdraw money from the account. Create some instances of the \"BankAccount\" class, deposit some money, and withdraw a portion of it. "
   ]
  },
  {
   "cell_type": "code",
   "execution_count": 50,
   "id": "811521cb-c756-485b-8c82-92cda4cee6dc",
   "metadata": {},
   "outputs": [],
   "source": [
    "class BankAccount():\n",
    "    def __init__(self,account_number,init_balance=0):\n",
    "        self.account_number = account_number\n",
    "        self.balance = init_balance\n",
    "    def deposit(self,amount):\n",
    "        if amount > 0:\n",
    "            self.balance += amount\n",
    "            print(f\"${amount} has been deposited into the account: {self.account_number}.\")\n",
    "        else:\n",
    "            print(\"The deposit amount must be more than 0\")\n",
    "    def withdraw(self,amount):\n",
    "        if amount > 0:\n",
    "            if amount < self.balance:\n",
    "                self.balance -= amount\n",
    "                print(f\"${amount} has been withdrawn from the account: {self.account_number}.\")\n",
    "            else:\n",
    "                print(\"Insufficient balance.\")\n",
    "        else:\n",
    "            print(\"Amount cannot be in negative\")\n",
    "\n",
    "    def get_balance(self):\n",
    "        print(f\"\"\"\n",
    "        Total balance: ${self.balance}\n",
    "        Account number: {self.account_number}\"\"\")\n",
    "    \n",
    "            \n",
    "        "
   ]
  },
  {
   "cell_type": "code",
   "execution_count": 51,
   "id": "6c567baf-5932-44f8-9295-9a9de8dcaa01",
   "metadata": {},
   "outputs": [],
   "source": [
    "acc1 = BankAccount(123456,800)"
   ]
  },
  {
   "cell_type": "code",
   "execution_count": 52,
   "id": "ece701f9-dda5-4b29-a9b9-a333d95d90ac",
   "metadata": {},
   "outputs": [
    {
     "name": "stdout",
     "output_type": "stream",
     "text": [
      "$9000 has been deposited into the account: 123456.\n"
     ]
    }
   ],
   "source": [
    "acc1.deposit(9000)"
   ]
  },
  {
   "cell_type": "code",
   "execution_count": 53,
   "id": "9e202e06-6b8d-45eb-9e02-8d0f3d28d014",
   "metadata": {},
   "outputs": [
    {
     "name": "stdout",
     "output_type": "stream",
     "text": [
      "$112 has been withdrawn from the account: 123456.\n"
     ]
    }
   ],
   "source": [
    "acc1.withdraw(112)"
   ]
  },
  {
   "cell_type": "code",
   "execution_count": 54,
   "id": "4b84c4c4-9861-4da1-8270-13d9c41fd57e",
   "metadata": {},
   "outputs": [
    {
     "name": "stdout",
     "output_type": "stream",
     "text": [
      "\n",
      "        Total balance: $9688\n",
      "        Account number: 123456\n"
     ]
    }
   ],
   "source": [
    "acc1.get_balance()"
   ]
  },
  {
   "cell_type": "code",
   "execution_count": 55,
   "id": "d9b67fc4-9410-4f55-91e2-38bdf623f585",
   "metadata": {},
   "outputs": [],
   "source": [
    "acc2 = BankAccount(12345,9000)"
   ]
  },
  {
   "cell_type": "code",
   "execution_count": 56,
   "id": "fa8e2dcc-cbd4-455e-b57c-c16dd5073296",
   "metadata": {},
   "outputs": [
    {
     "name": "stdout",
     "output_type": "stream",
     "text": [
      "$900000000 has been deposited into the account: 12345.\n"
     ]
    }
   ],
   "source": [
    "acc2.deposit(900000000)"
   ]
  },
  {
   "cell_type": "code",
   "execution_count": 57,
   "id": "6a417366-6544-4f4d-949f-7fec1b393318",
   "metadata": {},
   "outputs": [
    {
     "name": "stdout",
     "output_type": "stream",
     "text": [
      "$69000 has been withdrawn from the account: 12345.\n"
     ]
    }
   ],
   "source": [
    "acc2.withdraw(69000)"
   ]
  },
  {
   "cell_type": "code",
   "execution_count": 58,
   "id": "bcb07744-de87-45e7-8e53-350a7f2bc0d6",
   "metadata": {},
   "outputs": [
    {
     "name": "stdout",
     "output_type": "stream",
     "text": [
      "\n",
      "        Total balance: $899940000\n",
      "        Account number: 12345\n"
     ]
    }
   ],
   "source": [
    "acc2.get_balance()"
   ]
  },
  {
   "cell_type": "markdown",
   "id": "681c5b24-3aab-46be-8190-82c09688fc98",
   "metadata": {},
   "source": [
    "# 5. Write a Python program that creates a class called 'Shape' with a method to calculate the area. Create two subclasses, 'Circle' and 'Triangle', that inherit from the 'Shape' class and override the area calculation method. Create an instance of the 'Circle' class and calculate its area. Similarly, do the same for the 'Triangle' class. \n"
   ]
  },
  {
   "cell_type": "code",
   "execution_count": 59,
   "id": "6b739166-9406-4603-95a3-ffe5176f3b8e",
   "metadata": {},
   "outputs": [],
   "source": [
    "class Shape():\n",
    "    def area(self):\n",
    "        raise NotImplentedError(\"Subclasses must override this method\")"
   ]
  },
  {
   "cell_type": "code",
   "execution_count": 62,
   "id": "70c38bda-7803-40eb-8b03-dabf39f4669b",
   "metadata": {},
   "outputs": [],
   "source": [
    "class Circle(Shape):\n",
    "    def __init__(self,radius):\n",
    "        self.radius = radius\n",
    "    def area(self):\n",
    "        return 3.14 * self.radius ** 2"
   ]
  },
  {
   "cell_type": "code",
   "execution_count": 73,
   "id": "af110a31-2fb3-4e8b-92e0-63a4c9d67ca0",
   "metadata": {},
   "outputs": [],
   "source": [
    "class Triangle(Shape):\n",
    "    def __init__(self,base,height):\n",
    "        self.base = base\n",
    "        self.height = height\n",
    "    def area(self):\n",
    "        return 0.5 * self.base * self.height"
   ]
  },
  {
   "cell_type": "code",
   "execution_count": 74,
   "id": "fc1429cf-09da-4a66-9028-3b58bcc5cf67",
   "metadata": {},
   "outputs": [],
   "source": [
    "c1 = Circle(12)"
   ]
  },
  {
   "cell_type": "code",
   "execution_count": 75,
   "id": "ea3705a8-6013-46eb-87e7-03f18d3ada09",
   "metadata": {},
   "outputs": [
    {
     "data": {
      "text/plain": [
       "452.16"
      ]
     },
     "execution_count": 75,
     "metadata": {},
     "output_type": "execute_result"
    }
   ],
   "source": [
    "c1.area()"
   ]
  },
  {
   "cell_type": "code",
   "execution_count": 76,
   "id": "33da6230-57d8-4080-928a-158b8ce21097",
   "metadata": {},
   "outputs": [],
   "source": [
    "t1 = Triangle(8,9)"
   ]
  },
  {
   "cell_type": "code",
   "execution_count": 77,
   "id": "b45d8a12-82d3-422e-aabe-83b4e50a0c1d",
   "metadata": {},
   "outputs": [
    {
     "data": {
      "text/plain": [
       "36.0"
      ]
     },
     "execution_count": 77,
     "metadata": {},
     "output_type": "execute_result"
    }
   ],
   "source": [
    "t1.area()"
   ]
  },
  {
   "cell_type": "markdown",
   "id": "358c36db-f5c0-4463-b090-442fd06a47d3",
   "metadata": {},
   "source": [
    "# 6. Write a Python program that creates a class called 'Employee' with properties for name and salary. Include a method to calculate annual salary. Create a subclass called 'Manager' that inherits from the 'Employee' class and adds an additional property for department. Override the annual salary calculation method to include bonuses for managers. Create two instances of the 'Manager' class and calculate their annual salary"
   ]
  },
  {
   "cell_type": "code",
   "execution_count": 78,
   "id": "ea317910-b9f8-4b4d-8339-4aa2f9036aaf",
   "metadata": {},
   "outputs": [],
   "source": [
    "class Employee():\n",
    "    def __init__(self,name,salary):\n",
    "        self.name = name\n",
    "        self.salary = salary\n",
    "    def annual_salary(self):\n",
    "        annual_salary = self.salary * 12\n",
    "        return annual_salary"
   ]
  },
  {
   "cell_type": "code",
   "execution_count": 82,
   "id": "e68dbdea-d910-489b-98b0-e8de1e2d0c9d",
   "metadata": {},
   "outputs": [],
   "source": [
    "class Manager(Employee):\n",
    "    def __init__(self,name,salary,department):\n",
    "        super().__init__(name,salary)\n",
    "        self.department = department\n",
    "    def annual_salary(self):\n",
    "        annual_salary = (self.salary * 12) + 5000\n",
    "        return annual_salary"
   ]
  },
  {
   "cell_type": "code",
   "execution_count": 83,
   "id": "b59b7dc9-fcc9-405f-bbfa-738ca78bb616",
   "metadata": {},
   "outputs": [],
   "source": [
    "m1 = Manager(\"Hammad Kalmati\", 90000, \"IT\")"
   ]
  },
  {
   "cell_type": "code",
   "execution_count": 84,
   "id": "e306ea37-3736-40fa-9e87-4b1fd4be14d1",
   "metadata": {},
   "outputs": [
    {
     "data": {
      "text/plain": [
       "1085000"
      ]
     },
     "execution_count": 84,
     "metadata": {},
     "output_type": "execute_result"
    }
   ],
   "source": [
    "m1.annual_salary()"
   ]
  },
  {
   "cell_type": "code",
   "execution_count": 85,
   "id": "01938c9e-48ec-4c77-89c5-7bcedb15840f",
   "metadata": {},
   "outputs": [],
   "source": [
    "m2 = Manager(\"Ahmad\", 78000, \"ITt\")"
   ]
  },
  {
   "cell_type": "code",
   "execution_count": 86,
   "id": "198e0221-6417-45c0-98b5-d0f6220f04dd",
   "metadata": {},
   "outputs": [
    {
     "data": {
      "text/plain": [
       "941000"
      ]
     },
     "execution_count": 86,
     "metadata": {},
     "output_type": "execute_result"
    }
   ],
   "source": [
    "m2.annual_salary()"
   ]
  },
  {
   "cell_type": "markdown",
   "id": "5a5dfa8b-2661-48c3-9c1c-79380ca56b43",
   "metadata": {},
   "source": [
    "# 7. Write a Python program that creates a class `Book` with properties for title, author, and publication year. Include a method to display book details. Create a subclass called 'Ebook' that inherits from the 'Book' class and includes an additional property for book price. Override the display method to include the book price. Create an instance of the 'Ebook' class and display its details. "
   ]
  },
  {
   "cell_type": "code",
   "execution_count": 91,
   "id": "9a73e3ff-bc01-453b-8498-12383622a097",
   "metadata": {},
   "outputs": [],
   "source": [
    "class Book():\n",
    "    def __init__(self,title,author,pub_year):\n",
    "        self.title = title\n",
    "        self.author = author\n",
    "        self.pub_year = pub_year\n",
    "    def get_details(self):\n",
    "        print(f\"\"\"\n",
    "        Title: {self.title} \n",
    "        Author: {self.author}\n",
    "        Publishing year: {self.pub_year}\"\"\")"
   ]
  },
  {
   "cell_type": "code",
   "execution_count": 95,
   "id": "4d831947-36e0-47a8-a524-d3ef42faa9b2",
   "metadata": {},
   "outputs": [],
   "source": [
    "class Ebook(Book):\n",
    "    def __init__(self,title,author,pub_year,price):\n",
    "        super().__init__(title,author,pub_year)\n",
    "        self.price = price\n",
    "    def get_details(self):\n",
    "        print(f\"\"\"\n",
    "        Title: {self.title} \n",
    "        Author: {self.author}\n",
    "        Publishing year: {self.pub_year}\n",
    "        Price: ${self.price}\"\"\")"
   ]
  },
  {
   "cell_type": "code",
   "execution_count": 96,
   "id": "657dec9f-5ce9-4e61-8096-32823b0a3af2",
   "metadata": {},
   "outputs": [],
   "source": [
    "eb1 = Ebook(\"Book\",\"Someone\",2011,200)"
   ]
  },
  {
   "cell_type": "code",
   "execution_count": 97,
   "id": "c38cfd42-314d-490c-b611-324e3ac261ba",
   "metadata": {},
   "outputs": [
    {
     "name": "stdout",
     "output_type": "stream",
     "text": [
      "\n",
      "        Title: Book \n",
      "        Author: Someone\n",
      "        Publishing year: 2011\n",
      "        Price: $200\n"
     ]
    }
   ],
   "source": [
    "eb1.get_details()"
   ]
  },
  {
   "cell_type": "markdown",
   "id": "48f5b7ba-88d3-4280-a3ea-d673b9120307",
   "metadata": {},
   "source": [
    "# 8. Write a Python program that creates a class called 'Animal' with properties for species and sound. Include a method to make the animal's sound. Create a subclass called 'Dog' that inherits from the 'Animal' class and adds an additionalproperty for color. Override the make sound method to include the dog's color. Create an instance of the 'Dog' class and make it make its sound. "
   ]
  },
  {
   "cell_type": "code",
   "execution_count": 33,
   "id": "6613807c-871c-4d05-82d4-533a9afc6166",
   "metadata": {},
   "outputs": [],
   "source": [
    "class Animal:\n",
    "    def __init__(self, species, sound):\n",
    "        self.species = species\n",
    "        self.sound = sound\n",
    "\n",
    "    def make_sound(self):\n",
    "        print(self.sound)\n",
    "\n",
    "class Dog(Animal):\n",
    "    def __init__(self, breed, color, sound='Woof! Woof!', species='Dog'):\n",
    "        super().__init__(species, sound)\n",
    "        self.color = color\n",
    "        self.breed = breed\n",
    "\n",
    "    def make_sound(self):\n",
    "        print(f\"{self.sound} I am a {self.color} dog.\")\n"
   ]
  },
  {
   "cell_type": "code",
   "execution_count": 35,
   "id": "9853a6b2-7b1d-4e14-a3e8-a10db67b1de6",
   "metadata": {},
   "outputs": [],
   "source": [
    "d1 = Dog(\"German Shepherd\",\"Brown\")"
   ]
  },
  {
   "cell_type": "code",
   "execution_count": 36,
   "id": "94ed8c84-a598-4f56-8961-865f8bddf27d",
   "metadata": {},
   "outputs": [
    {
     "name": "stdout",
     "output_type": "stream",
     "text": [
      "Woof! Woof! I am a Brown dog.\n"
     ]
    }
   ],
   "source": [
    "d1.make_sound()"
   ]
  },
  {
   "cell_type": "markdown",
   "id": "dd887dfb-2555-4a1c-b9a2-95ac1a92d96f",
   "metadata": {},
   "source": [
    "# 9. Write a Python program that creates a class called Bank with properties for bank names and branches. Include methods to add a branch, remove a branch, and display all branches. Create an instance of the Bank class and perform operations to add and remove branches. "
   ]
  },
  {
   "cell_type": "code",
   "execution_count": 42,
   "id": "12fe14ff-e923-4c6c-b561-cc2ee8314408",
   "metadata": {},
   "outputs": [],
   "source": [
    "class Bank():\n",
    "    def __init__(self,name,branch=None):\n",
    "        self.name = name\n",
    "        self.branches = []\n",
    "        if branch:\n",
    "            self.branches.append(branch)\n",
    "    def add_branch(self,branch_name):\n",
    "        if branch_name not in self.branches:\n",
    "            self.branches.append(branch_name)\n",
    "            print(F\"{branch_name} added successfully.\")\n",
    "        else:\n",
    "            print(f\"{branch_name} already exists.\")\n",
    "    def remove_branch(self,branch_name):\n",
    "        if branch_name in self.branches:\n",
    "            self.branches.remove(branch_name)\n",
    "            print(F\"{branch_name} removed successfully.\")\n",
    "        else:\n",
    "            print(f\"{branch_name} not found.\")\n",
    "    def display_branches(self):\n",
    "        if self.branches:\n",
    "            print(\"Branches:\")\n",
    "            for branch in self.branches:\n",
    "                print(f\" - {branch}\")\n",
    "        else:\n",
    "            print(\"No branches available.\")"
   ]
  },
  {
   "cell_type": "code",
   "execution_count": 43,
   "id": "0d7304a4-7141-44ab-bd97-a435f8125bc9",
   "metadata": {},
   "outputs": [],
   "source": [
    "bank1 = Bank(\"HBL\",\"Malir Halt Branch\")"
   ]
  },
  {
   "cell_type": "code",
   "execution_count": 44,
   "id": "41480d7b-7897-4aa1-ad44-c4d4e343bc44",
   "metadata": {},
   "outputs": [
    {
     "name": "stdout",
     "output_type": "stream",
     "text": [
      "Rafah e Aam Branch added successfully.\n"
     ]
    }
   ],
   "source": [
    "bank1.add_branch(\"Rafah e Aam Branch\")"
   ]
  },
  {
   "cell_type": "code",
   "execution_count": 45,
   "id": "e7cac236-e3c2-4137-a972-2d750104b292",
   "metadata": {},
   "outputs": [
    {
     "name": "stdout",
     "output_type": "stream",
     "text": [
      "Rafah e Aam Branch removed successfully.\n"
     ]
    }
   ],
   "source": [
    "bank1.remove_branch(\"Rafah e Aam Branch\")"
   ]
  },
  {
   "cell_type": "code",
   "execution_count": 46,
   "id": "d3a43226-05a2-4e91-b1ba-bb46acfac36f",
   "metadata": {},
   "outputs": [
    {
     "name": "stdout",
     "output_type": "stream",
     "text": [
      "Branches:\n",
      " - Malir Halt Branch\n"
     ]
    }
   ],
   "source": [
    "bank1.display_branches()"
   ]
  },
  {
   "cell_type": "markdown",
   "id": "fc29431c-78fe-413c-8cdc-ea7d6604deac",
   "metadata": {},
   "source": [
    "### 10. Write a Python program that creates a class called Product with properties for product ID, name, and price. Include a method to calculate the total price by multiplying the price by the quantity. Create a subclass called PersonalCareProduct that inherits from the Product class and adds an additional property for the warranty period. Override the total price calculation method to include the warranty period. Create an instance of the PersonalCareProduct class and calculate its total price. \n"
   ]
  },
  {
   "cell_type": "code",
   "execution_count": 47,
   "id": "e2004732-f4b6-418a-821e-955f2ee4ed89",
   "metadata": {},
   "outputs": [],
   "source": [
    "class Product:\n",
    "    def __init__(self, product_id, name, price):\n",
    "        self.product_id = product_id\n",
    "        self.name = name\n",
    "        self.price = price\n",
    "\n",
    "    def calculate_total_price(self, quantity):\n",
    "        return self.price * quantity\n",
    "\n",
    "class PersonalCareProduct(Product):\n",
    "    def __init__(self, product_id, name, price, warranty_period):\n",
    "        super().__init__(product_id, name, price)\n",
    "        self.warranty_period = warranty_period\n",
    "\n",
    "    def calculate_total_price(self, quantity):\n",
    "        surcharge = self.warranty_period * 2\n",
    "        return (self.price * quantity) + surcharge"
   ]
  },
  {
   "cell_type": "code",
   "execution_count": 48,
   "id": "8eeae8b6-d195-4809-b43d-8298507f6490",
   "metadata": {},
   "outputs": [],
   "source": [
    "p1 = PersonalCareProduct(\"ps123\",\"Playstation 5\", 900, 5)"
   ]
  },
  {
   "cell_type": "code",
   "execution_count": 50,
   "id": "554f205d-b559-43f0-a86c-d65a21ec46df",
   "metadata": {},
   "outputs": [
    {
     "data": {
      "text/plain": [
       "3610"
      ]
     },
     "execution_count": 50,
     "metadata": {},
     "output_type": "execute_result"
    }
   ],
   "source": [
    "p1.calculate_total_price(4)"
   ]
  },
  {
   "cell_type": "markdown",
   "id": "326c814a-7f63-4bc0-bedc-e133a5bd44ad",
   "metadata": {},
   "source": [
    "## 11. Write a Python program that creates a class called BankAccount with properties for account number, account holder name, and balance. Include methods to deposit, withdraw, and transfer money between accounts. Create multiple instances of the BankAccount class and perform operations such as depositing, withdrawing, and transferring money. "
   ]
  },
  {
   "cell_type": "code",
   "execution_count": 87,
   "id": "400d080f-3740-4752-85b5-e8d34ef3e1e7",
   "metadata": {},
   "outputs": [],
   "source": [
    "class BankAccount:\n",
    "    def __init__(self, account_number, holder_name, balance=0):\n",
    "        self.account_number = account_number\n",
    "        self.holder_name = holder_name\n",
    "        self.balance = balance\n",
    "\n",
    "    def deposit(self, amount):\n",
    "        if amount > 0:\n",
    "            self.balance += amount\n",
    "            print(f\"${amount} deposited successfully to {self.holder_name}'s account.\")\n",
    "\n",
    "    def withdraw(self, amount):\n",
    "        if amount > 0 and amount <= self.balance:\n",
    "            self.balance -= amount\n",
    "            print(f\"${amount} withdrawn successfully.\")\n",
    "\n",
    "    def transfer(self, amount, other_account):\n",
    "        if amount > 0 and amount <= self.balance:\n",
    "            self.balance -= amount\n",
    "            other_account.deposit(amount)"
   ]
  },
  {
   "cell_type": "code",
   "execution_count": 88,
   "id": "4ea6a716-fde7-48d4-af47-236337a19465",
   "metadata": {},
   "outputs": [],
   "source": [
    "acc1 = BankAccount(123456,\"Hammad\", 90000)"
   ]
  },
  {
   "cell_type": "code",
   "execution_count": 89,
   "id": "ff1f1cc5-5d78-48ed-9c6a-9291b67dd0af",
   "metadata": {},
   "outputs": [
    {
     "name": "stdout",
     "output_type": "stream",
     "text": [
      "$9000000 deposited successfully to Hammad's account.\n"
     ]
    }
   ],
   "source": [
    "acc1.deposit(9000000)"
   ]
  },
  {
   "cell_type": "code",
   "execution_count": 90,
   "id": "92ea4da7-0035-44fb-8887-6b0ebd181620",
   "metadata": {},
   "outputs": [
    {
     "name": "stdout",
     "output_type": "stream",
     "text": [
      "$9000 withdrawn successfully.\n"
     ]
    }
   ],
   "source": [
    "acc1.withdraw(9000)"
   ]
  },
  {
   "cell_type": "code",
   "execution_count": 91,
   "id": "6b6ee0c9-a262-44a1-80e3-a4261486cf86",
   "metadata": {},
   "outputs": [],
   "source": [
    "acc2 = BankAccount(12345,\"Hammar\",900)"
   ]
  },
  {
   "cell_type": "code",
   "execution_count": 92,
   "id": "78f8bef5-fb7d-4ee1-bdca-167cec5edb0a",
   "metadata": {},
   "outputs": [
    {
     "name": "stdout",
     "output_type": "stream",
     "text": [
      "$70000 deposited successfully to Hammar's account.\n"
     ]
    }
   ],
   "source": [
    "acc1.transfer(70000,acc2)"
   ]
  },
  {
   "cell_type": "code",
   "execution_count": null,
   "id": "17193815-0481-4fb1-a661-75502fc57713",
   "metadata": {},
   "outputs": [],
   "source": []
  },
  {
   "cell_type": "markdown",
   "id": "2ce169e6-d776-454b-9efe-15130027ca84",
   "metadata": {},
   "source": [
    "## 12. Write a Python program that creates a class called University with properties for university name and departments. Include methods to add a department, remove a department, and display all departments. Create an instance of the University class and add and remove departments. "
   ]
  },
  {
   "cell_type": "code",
   "execution_count": 51,
   "id": "65b9b392-e983-4353-9998-f7e5e6069e4e",
   "metadata": {},
   "outputs": [],
   "source": [
    "class University():\n",
    "    def __init__(self,name,department=None):\n",
    "        self.name = name\n",
    "        self.departments = []\n",
    "        if department:\n",
    "            self.departments.append(department)\n",
    "    def add_depart(self,depart_name):\n",
    "        if depart_name not in self.departments:\n",
    "            self.departments.append(depart_name)\n",
    "            print(F\"{depart_name} department added successfully.\")\n",
    "        else:\n",
    "            print(f\"{depart_name} department already exists.\")\n",
    "    def remove_depart(self,depart_name):\n",
    "        if depart_name in self.departments:\n",
    "            self.departments.remove(depart_name)\n",
    "            print(F\"{depart_name} department removed successfully.\")\n",
    "        else:\n",
    "            print(f\"{branch_name} department not found.\")\n",
    "    def display_departs(self):\n",
    "        if self.departments:\n",
    "            print(\"Departments:\")\n",
    "            for depart in self.departments:\n",
    "                print(f\" - {depart}\")\n",
    "        else:\n",
    "            print(\"No Departments available.\")"
   ]
  },
  {
   "cell_type": "code",
   "execution_count": 52,
   "id": "9b2e3ae5-43fd-48c5-8e4e-bc618f349bb8",
   "metadata": {},
   "outputs": [],
   "source": [
    "uni = University(\"University of Karachi\", \"Pharmacy\")"
   ]
  },
  {
   "cell_type": "code",
   "execution_count": 53,
   "id": "dd8ece32-c2b6-4bbb-b341-158abb1c1bde",
   "metadata": {},
   "outputs": [
    {
     "name": "stdout",
     "output_type": "stream",
     "text": [
      "Physiology department added successfully.\n"
     ]
    }
   ],
   "source": [
    "uni.add_depart(\"Physiology\")"
   ]
  },
  {
   "cell_type": "code",
   "execution_count": 54,
   "id": "4cbaca07-7d37-409e-8f43-64f844afd679",
   "metadata": {},
   "outputs": [
    {
     "name": "stdout",
     "output_type": "stream",
     "text": [
      "Computer Science department added successfully.\n"
     ]
    }
   ],
   "source": [
    "uni.add_depart(\"Computer Science\")"
   ]
  },
  {
   "cell_type": "code",
   "execution_count": 55,
   "id": "95eb199e-4e6e-4484-a38b-6d364e64fc15",
   "metadata": {},
   "outputs": [
    {
     "name": "stdout",
     "output_type": "stream",
     "text": [
      "Pharmacy department removed successfully.\n"
     ]
    }
   ],
   "source": [
    "uni.remove_depart(\"Pharmacy\")"
   ]
  },
  {
   "cell_type": "code",
   "execution_count": 56,
   "id": "e3b3307f-959a-477b-a015-c024469d7215",
   "metadata": {},
   "outputs": [
    {
     "name": "stdout",
     "output_type": "stream",
     "text": [
      "Departments:\n",
      " - Physiology\n",
      " - Computer Science\n"
     ]
    }
   ],
   "source": [
    "uni.display_departs()"
   ]
  },
  {
   "cell_type": "code",
   "execution_count": null,
   "id": "d221d3b1-8001-4676-993a-7f91180dead5",
   "metadata": {},
   "outputs": [],
   "source": []
  }
 ],
 "metadata": {
  "kernelspec": {
   "display_name": "Python 3 (ipykernel)",
   "language": "python",
   "name": "python3"
  },
  "language_info": {
   "codemirror_mode": {
    "name": "ipython",
    "version": 3
   },
   "file_extension": ".py",
   "mimetype": "text/x-python",
   "name": "python",
   "nbconvert_exporter": "python",
   "pygments_lexer": "ipython3",
   "version": "3.12.7"
  }
 },
 "nbformat": 4,
 "nbformat_minor": 5
}
