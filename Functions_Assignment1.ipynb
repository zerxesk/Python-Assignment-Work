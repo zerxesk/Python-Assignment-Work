{
 "cells": [
  {
   "cell_type": "markdown",
   "id": "87fd6fe7-6094-480b-b656-883249342c28",
   "metadata": {},
   "source": [
    "### 1. Write a Python function to find the maximum of three numbers."
   ]
  },
  {
   "cell_type": "code",
   "execution_count": 8,
   "id": "656249ca-8884-4777-8162-27941b2b9a63",
   "metadata": {},
   "outputs": [],
   "source": [
    "def find_max(num1,num2,num3):\n",
    "    if num1>num2 and num1>num3:\n",
    "        return num1\n",
    "    elif num2>num1 and num2>num3:\n",
    "        return num2\n",
    "    else:\n",
    "        return num3"
   ]
  },
  {
   "cell_type": "code",
   "execution_count": 9,
   "id": "b9aedffd-1ebc-4fcd-872f-e17ae58801b4",
   "metadata": {},
   "outputs": [
    {
     "data": {
      "text/plain": [
       "78"
      ]
     },
     "execution_count": 9,
     "metadata": {},
     "output_type": "execute_result"
    }
   ],
   "source": [
    "find_max(12,56,78)"
   ]
  },
  {
   "cell_type": "markdown",
   "id": "1f5fd8e9-6428-44ed-804d-5c25e5f2d824",
   "metadata": {},
   "source": [
    "### 2. Write a Python function to sum all the numbers in a list.\n",
    "    Sample List : (8, 2, 3, 0, 7)\n",
    "    Expected Output : 20 "
   ]
  },
  {
   "cell_type": "code",
   "execution_count": 22,
   "id": "2bce4946-2d43-4140-b5e1-ab181ca24303",
   "metadata": {},
   "outputs": [],
   "source": [
    "def sum_num(num1,num2,*num):\n",
    "    nem=0\n",
    "    for a in num:\n",
    "        nem+=a\n",
    "        x = nem+num1+num2\n",
    "    return x"
   ]
  },
  {
   "cell_type": "code",
   "execution_count": 23,
   "id": "e37b91dc-19ca-405e-9a4f-c1b1b2c71351",
   "metadata": {},
   "outputs": [
    {
     "data": {
      "text/plain": [
       "20"
      ]
     },
     "execution_count": 23,
     "metadata": {},
     "output_type": "execute_result"
    }
   ],
   "source": [
    "sum_num(8,2,3,0,7)"
   ]
  },
  {
   "cell_type": "markdown",
   "id": "41c973d2-c631-4906-bc75-e73c841bf453",
   "metadata": {},
   "source": [
    "### 3. Write a Python function to multiply all the numbers in a list.\n",
    "    Sample List : (8, 2, 3, -1, 7)\n",
    "    Expected Output : -336 "
   ]
  },
  {
   "cell_type": "code",
   "execution_count": 33,
   "id": "84316017-a880-4934-aa4f-b9095c99f328",
   "metadata": {},
   "outputs": [],
   "source": [
    "def multi_num(lst):\n",
    "    x=1\n",
    "    for a in lst:\n",
    "        x*=a\n",
    "    return x"
   ]
  },
  {
   "cell_type": "code",
   "execution_count": 35,
   "id": "abeeed27-f2e3-4d46-a82f-04fde07f7fa3",
   "metadata": {},
   "outputs": [
    {
     "data": {
      "text/plain": [
       "-336"
      ]
     },
     "execution_count": 35,
     "metadata": {},
     "output_type": "execute_result"
    }
   ],
   "source": [
    "multi_num([8,2,3,-1,7])"
   ]
  },
  {
   "cell_type": "markdown",
   "id": "b71d0f70-d158-4788-8dd4-e99b8b260364",
   "metadata": {},
   "source": [
    "### 4. Write a Python program to reverse a string.\n",
    "    Sample String : \"1234abcd\"\n",
    "    Expected Output : \"dcba4321\" "
   ]
  },
  {
   "cell_type": "code",
   "execution_count": 48,
   "id": "9e82f8d3-1d8d-4088-bf70-e22062273873",
   "metadata": {},
   "outputs": [],
   "source": [
    "def rev_str(string):\n",
    "        string=string[::-1]\n",
    "        return string"
   ]
  },
  {
   "cell_type": "code",
   "execution_count": 50,
   "id": "839e0dc3-3c15-4879-9ad0-a2d47a9e5e77",
   "metadata": {},
   "outputs": [
    {
     "data": {
      "text/plain": [
       "'dcba4321'"
      ]
     },
     "execution_count": 50,
     "metadata": {},
     "output_type": "execute_result"
    }
   ],
   "source": [
    "rev_str(\"1234abcd\")"
   ]
  },
  {
   "cell_type": "markdown",
   "id": "302b52ef-9835-45d6-9d2c-b49968d8de6c",
   "metadata": {},
   "source": [
    "### 5. Write a Python function to calculate the factorial of a number (a non-negative integer). The function accepts the number as an argument. "
   ]
  },
  {
   "cell_type": "code",
   "execution_count": 29,
   "id": "da6a5ef5-7327-4a53-b8c5-222f38b140bc",
   "metadata": {},
   "outputs": [],
   "source": [
    "def fact(fac):\n",
    "    tot=1\n",
    "    if fac>0:\n",
    "        for i in range(1,fac+1):\n",
    "            tot=tot*i\n",
    "        return f\"The Factorial of {fac} is {tot}\"\n",
    "    elif fac==0:\n",
    "        return \"The factorial of 0 is 1\"\n",
    "    elif fac<0:\n",
    "        return \"Factorial does not exist for negative numbers\"\n",
    "    "
   ]
  },
  {
   "cell_type": "code",
   "execution_count": 30,
   "id": "f2e76b7c-f34d-4b43-93a9-9cc48389498e",
   "metadata": {},
   "outputs": [
    {
     "data": {
      "text/plain": [
       "'The Factorial of 5 is 120'"
      ]
     },
     "execution_count": 30,
     "metadata": {},
     "output_type": "execute_result"
    }
   ],
   "source": [
    "fact(5)"
   ]
  },
  {
   "cell_type": "code",
   "execution_count": 34,
   "id": "bc075ffb-f4d6-4b5c-b437-eeacbf35c918",
   "metadata": {},
   "outputs": [
    {
     "data": {
      "text/plain": [
       "'Factorial does not exist for negative numbers'"
      ]
     },
     "execution_count": 34,
     "metadata": {},
     "output_type": "execute_result"
    }
   ],
   "source": [
    "fact(-1)"
   ]
  },
  {
   "cell_type": "markdown",
   "id": "d1f19f12-f8c3-4e0d-a1fb-fda5ae04f7a4",
   "metadata": {},
   "source": [
    "### 6. Write a Python function to check whether a number falls within a given range. \n"
   ]
  },
  {
   "cell_type": "code",
   "execution_count": 39,
   "id": "b224fd30-eb33-464e-8010-e55cbf99c402",
   "metadata": {},
   "outputs": [],
   "source": [
    "def is_within_range(num,fro,to):\n",
    "    if num<=to and num>=fro:\n",
    "        return True\n",
    "    else:\n",
    "        return False"
   ]
  },
  {
   "cell_type": "code",
   "execution_count": 40,
   "id": "165928c2-4396-433f-8d17-f8f08974ce66",
   "metadata": {},
   "outputs": [
    {
     "data": {
      "text/plain": [
       "True"
      ]
     },
     "execution_count": 40,
     "metadata": {},
     "output_type": "execute_result"
    }
   ],
   "source": [
    "is_within_range(7,3,90)"
   ]
  },
  {
   "cell_type": "code",
   "execution_count": 41,
   "id": "992cb3f6-985c-4117-b6fb-7da76a719388",
   "metadata": {},
   "outputs": [
    {
     "data": {
      "text/plain": [
       "False"
      ]
     },
     "execution_count": 41,
     "metadata": {},
     "output_type": "execute_result"
    }
   ],
   "source": [
    "is_within_range(8,9,99)"
   ]
  },
  {
   "cell_type": "markdown",
   "id": "f947965d-41a3-4828-9718-fb9b58c6901b",
   "metadata": {},
   "source": [
    "### 7. Write a Python function that accepts a string and counts the number of upper and lower case letters.\n",
    "    Sample String : 'The quick Brow Fox'\n",
    "    Expected Output :\n",
    "    No. of Upper case characters : 3\n",
    "    No. of Lower case Characters : 12 "
   ]
  },
  {
   "cell_type": "code",
   "execution_count": 72,
   "id": "baaa61aa-66b1-43fe-b6d0-95af0544eecc",
   "metadata": {},
   "outputs": [],
   "source": [
    "def upperlower_count(string):\n",
    "    num_low=0\n",
    "    num_up=0\n",
    "    for a in string:\n",
    "        if a.islower():\n",
    "            num_low=num_low+1\n",
    "        elif a.isupper():\n",
    "            num_up=num_up+1\n",
    "    return f\"\"\"No. of lower case characters : {num_low}\n",
    "No. of Upper case characters :{num_up}\"\"\"\n",
    "    "
   ]
  },
  {
   "cell_type": "code",
   "execution_count": 73,
   "id": "742ede5b-e81f-4e4f-b4e7-5bcae54b9593",
   "metadata": {},
   "outputs": [
    {
     "name": "stdout",
     "output_type": "stream",
     "text": [
      "No. of lower case characters : 20\n",
      "No. of Upper case characters :3\n"
     ]
    }
   ],
   "source": [
    "print(upperlower_count(\"I am Hammad Baloch thank you\"))"
   ]
  },
  {
   "cell_type": "markdown",
   "id": "93abd673-babb-4553-9ab7-b6acab43d82d",
   "metadata": {},
   "source": [
    "### 8. Write a Python function that takes a list and returns a new list with distinct elements from the first list.\n",
    "    Sample List : [1,2,3,3,3,3,4,5]\n",
    "    Unique List : [1, 2, 3, 4, 5] "
   ]
  },
  {
   "cell_type": "code",
   "execution_count": 95,
   "id": "a90f91f9-f280-43ac-8033-d02ebe740f27",
   "metadata": {},
   "outputs": [],
   "source": [
    "def filter_list(lst):\n",
    "    b=[]\n",
    "    for a in lst:\n",
    "        if a not in b:\n",
    "            b.append(a)\n",
    "    return b"
   ]
  },
  {
   "cell_type": "code",
   "execution_count": 97,
   "id": "5a412f8f-96d9-4047-a17c-fb8b1b8d44fa",
   "metadata": {},
   "outputs": [
    {
     "data": {
      "text/plain": [
       "[1, 2, 3, 4, 5]"
      ]
     },
     "execution_count": 97,
     "metadata": {},
     "output_type": "execute_result"
    }
   ],
   "source": [
    "filter_list([1,2,3,3,3,3,4,5])"
   ]
  },
  {
   "cell_type": "markdown",
   "id": "b698a17e-b70e-4c62-b0c1-903431143c44",
   "metadata": {},
   "source": [
    "### 9. Write a Python function that takes a number as a parameter and checks whether the number is prime or not.\n",
    "    Note : A prime number (or a prime) is a natural number greater than 1 and that\n",
    "    has no positive divisors other than 1 and itself. "
   ]
  },
  {
   "cell_type": "code",
   "execution_count": 68,
   "id": "f83a283a-e6d9-4e15-8b4c-1e7ec16de1a4",
   "metadata": {},
   "outputs": [],
   "source": [
    "def is_prime(number):\n",
    "    if number<=1:\n",
    "        return False\n",
    "    if number<=3:\n",
    "        return True\n",
    "    if number%2==0 or number%3==0:\n",
    "        return False\n",
    "    for i in range(5, int(math.sqrt(number))+1,6):\n",
    "        if number%i==0 or number%(i+2)==0:\n",
    "            return False\n",
    "    return True"
   ]
  },
  {
   "cell_type": "code",
   "execution_count": 70,
   "id": "7034f3e5-7d69-4803-b3a6-f26a93480fb0",
   "metadata": {},
   "outputs": [
    {
     "data": {
      "text/plain": [
       "True"
      ]
     },
     "execution_count": 70,
     "metadata": {},
     "output_type": "execute_result"
    }
   ],
   "source": [
    "is_prime(7)"
   ]
  },
  {
   "cell_type": "markdown",
   "id": "6cb1087e-a967-4f43-81ef-db133a2133d7",
   "metadata": {},
   "source": [
    "### 10. Write a Python program to print the even numbers from a given list.\n",
    "    Sample List : [1, 2, 3, 4, 5, 6, 7, 8, 9]\n",
    "    Expected Result : [2, 4, 6, 8] "
   ]
  },
  {
   "cell_type": "code",
   "execution_count": 24,
   "id": "53427e36-dd07-4bb6-ae07-b6158968def4",
   "metadata": {},
   "outputs": [],
   "source": [
    "def even(ev):\n",
    "    even_list=[]\n",
    "    for a in ev:\n",
    "        if a<=0:\n",
    "            return \"You must enter real positive numbers\"\n",
    "        for e in ev:\n",
    "            if e%2==0:\n",
    "                even_list.append(e)\n",
    "        return even_list"
   ]
  },
  {
   "cell_type": "code",
   "execution_count": 29,
   "id": "fcfd1297-3a55-4db8-9911-8de82010a8c6",
   "metadata": {},
   "outputs": [
    {
     "data": {
      "text/plain": [
       "[2, 4, 6, 8]"
      ]
     },
     "execution_count": 29,
     "metadata": {},
     "output_type": "execute_result"
    }
   ],
   "source": [
    "even([1,2,3,4,5,6,7,8,9])"
   ]
  },
  {
   "cell_type": "markdown",
   "id": "759eb538-8b18-44e3-8cd5-8c6d4cfd09e6",
   "metadata": {},
   "source": [
    "### 11. Write a Python function to check whether a number is \"Perfect\" or not. \n",
    "Example : The first perfect number is 6, because 1, 2, and 3 are its proper positive\n",
    "divisors, and 1 + 2 + 3 = 6. Equivalently, the number 6 is equal to half the sum of\n",
    "all its positive divisors: ( 1 + 2 + 3 + 6 ) / 2 = 6. The next perfect number is 28 = 1 +\n",
    "2 + 4 + 7 + 14. This is followed by the perfect numbers 496 and 8128.\n"
   ]
  },
  {
   "cell_type": "code",
   "execution_count": 27,
   "id": "c76b31e5-f37c-4197-9802-8559ab4987b0",
   "metadata": {},
   "outputs": [],
   "source": [
    "def is_perfect(num):\n",
    "    tot=0\n",
    "    for a in range(1,num//2+1):\n",
    "        if num%a==0:\n",
    "            tot+=a\n",
    "    if tot==num:\n",
    "        return True\n",
    "    else:\n",
    "        return False"
   ]
  },
  {
   "cell_type": "code",
   "execution_count": 33,
   "id": "45e46615-6434-4413-9319-e49de3568df0",
   "metadata": {},
   "outputs": [
    {
     "data": {
      "text/plain": [
       "True"
      ]
     },
     "execution_count": 33,
     "metadata": {},
     "output_type": "execute_result"
    }
   ],
   "source": [
    "is_perfect(6)"
   ]
  },
  {
   "cell_type": "code",
   "execution_count": 34,
   "id": "1f0a6182-1c20-48c8-b992-2a49f3550662",
   "metadata": {},
   "outputs": [
    {
     "data": {
      "text/plain": [
       "True"
      ]
     },
     "execution_count": 34,
     "metadata": {},
     "output_type": "execute_result"
    }
   ],
   "source": [
    "is_perfect(28)"
   ]
  },
  {
   "cell_type": "code",
   "execution_count": 35,
   "id": "f95fb714-02a7-4afe-a3f9-b07bfcb1532e",
   "metadata": {},
   "outputs": [
    {
     "data": {
      "text/plain": [
       "True"
      ]
     },
     "execution_count": 35,
     "metadata": {},
     "output_type": "execute_result"
    }
   ],
   "source": [
    "is_perfect(496)"
   ]
  },
  {
   "cell_type": "code",
   "execution_count": 36,
   "id": "6d3214d4-ca9a-4bd7-944e-146b96697bc9",
   "metadata": {},
   "outputs": [
    {
     "data": {
      "text/plain": [
       "False"
      ]
     },
     "execution_count": 36,
     "metadata": {},
     "output_type": "execute_result"
    }
   ],
   "source": [
    "is_perfect(10)"
   ]
  },
  {
   "cell_type": "markdown",
   "id": "34d4f4c4-67ae-4824-9ff9-713079a28587",
   "metadata": {},
   "source": [
    "### 12. Write a Python function that checks whether a passed string is a palindrome or not.\n",
    "Note: A palindrome is a word, phrase, or sequence that reads the same backward\n",
    "as forward, e.g., madam or nurses run. "
   ]
  },
  {
   "cell_type": "code",
   "execution_count": 37,
   "id": "3741ea05-9e8b-49bd-a365-3cb778dfebf8",
   "metadata": {},
   "outputs": [],
   "source": [
    "def is_palin(pal):\n",
    "    pal=pal.replace(' ','').lower()\n",
    "    new_pal=pal[::-1]\n",
    "    if pal==new_pal:\n",
    "        return True\n",
    "    else:\n",
    "        return False"
   ]
  },
  {
   "cell_type": "code",
   "execution_count": 38,
   "id": "cddf7777-6493-47e7-8cec-fbaab2263c93",
   "metadata": {},
   "outputs": [
    {
     "data": {
      "text/plain": [
       "True"
      ]
     },
     "execution_count": 38,
     "metadata": {},
     "output_type": "execute_result"
    }
   ],
   "source": [
    "is_palin(\"Nurses run\")"
   ]
  },
  {
   "cell_type": "code",
   "execution_count": 39,
   "id": "bb734337-3db6-47d4-b30b-456c4cb6f653",
   "metadata": {},
   "outputs": [
    {
     "data": {
      "text/plain": [
       "False"
      ]
     },
     "execution_count": 39,
     "metadata": {},
     "output_type": "execute_result"
    }
   ],
   "source": [
    "is_palin('This cant be a palindrome')"
   ]
  },
  {
   "cell_type": "code",
   "execution_count": null,
   "id": "3d90c237-c11f-44d4-90d2-3bd547c5995c",
   "metadata": {},
   "outputs": [],
   "source": []
  }
 ],
 "metadata": {
  "kernelspec": {
   "display_name": "Python 3 (ipykernel)",
   "language": "python",
   "name": "python3"
  },
  "language_info": {
   "codemirror_mode": {
    "name": "ipython",
    "version": 3
   },
   "file_extension": ".py",
   "mimetype": "text/x-python",
   "name": "python",
   "nbconvert_exporter": "python",
   "pygments_lexer": "ipython3",
   "version": "3.12.7"
  }
 },
 "nbformat": 4,
 "nbformat_minor": 5
}
